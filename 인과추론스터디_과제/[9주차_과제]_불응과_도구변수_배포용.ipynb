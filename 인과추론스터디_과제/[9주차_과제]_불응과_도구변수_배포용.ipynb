{
  "cells": [
    {
      "cell_type": "markdown",
      "metadata": {
        "id": "ek7Tc_yiDo8y"
      },
      "source": [
        "## [9주차 과제] 불응과 도구변수\n",
        "\n",
        "불응과 도구변수를 이해하기 위한 과제입니다.\n",
        "\n",
        "---\n",
        "**과제 가이드**\n",
        "\n",
        "- program_offered : 프로그램 제공 여부 (도구변수)\n",
        "- program_participation : 실제 프로그램 참여 여부 (처치변수)\n",
        "- post_test_score : 프로그램 후 시험 점수 (결과변수)\n",
        "- 빈칸이 없는 부분은 확인용이니 확인 후 넘어가주세요.\n",
        "---\n",
        "\n",
        "\n",
        "\n",
        "과제 제출 기한: 2024년 7월 25일(목) 21:00<br>\n",
        "제출 방법: `#24s-causal-inference` Slack 채널에 작성한 Notion 링크 공유<br>\n",
        "\n",
        "*출제자: 임예빈<br>\n",
        "최종 수정일: 2024년 7월 22일(월)*"
      ]
    },
    {
      "cell_type": "code",
      "execution_count": 1,
      "metadata": {
        "id": "ac-dd2eVKOSj"
      },
      "outputs": [],
      "source": [
        "import statsmodels.formula.api as smf\n",
        "from matplotlib import pyplot as plt\n",
        "import matplotlib"
      ]
    },
    {
      "cell_type": "markdown",
      "metadata": {
        "id": "JVxf_g3eFAXy"
      },
      "source": [
        "## 11.1 불응\n"
      ]
    },
    {
      "cell_type": "code",
      "execution_count": 2,
      "metadata": {
        "id": "M5xWyYCUKDDW"
      },
      "outputs": [
        {
          "data": {
            "text/html": [
              "<div>\n",
              "<style scoped>\n",
              "    .dataframe tbody tr th:only-of-type {\n",
              "        vertical-align: middle;\n",
              "    }\n",
              "\n",
              "    .dataframe tbody tr th {\n",
              "        vertical-align: top;\n",
              "    }\n",
              "\n",
              "    .dataframe thead th {\n",
              "        text-align: right;\n",
              "    }\n",
              "</style>\n",
              "<table border=\"1\" class=\"dataframe\">\n",
              "  <thead>\n",
              "    <tr style=\"text-align: right;\">\n",
              "      <th></th>\n",
              "      <th>age</th>\n",
              "      <th>income</th>\n",
              "      <th>pre_test_score</th>\n",
              "      <th>attendance_score</th>\n",
              "      <th>program_offered</th>\n",
              "      <th>program_participation</th>\n",
              "      <th>post_test_score</th>\n",
              "      <th>tau</th>\n",
              "      <th>categ</th>\n",
              "    </tr>\n",
              "  </thead>\n",
              "  <tbody>\n",
              "    <tr>\n",
              "      <th>0</th>\n",
              "      <td>38.6</td>\n",
              "      <td>9706.0</td>\n",
              "      <td>50.33</td>\n",
              "      <td>20.0</td>\n",
              "      <td>0</td>\n",
              "      <td>0</td>\n",
              "      <td>50.33</td>\n",
              "      <td>16.63</td>\n",
              "      <td>never-taker</td>\n",
              "    </tr>\n",
              "    <tr>\n",
              "      <th>1</th>\n",
              "      <td>49.0</td>\n",
              "      <td>14394.0</td>\n",
              "      <td>55.61</td>\n",
              "      <td>25.6</td>\n",
              "      <td>0</td>\n",
              "      <td>0</td>\n",
              "      <td>55.61</td>\n",
              "      <td>33.05</td>\n",
              "      <td>complier</td>\n",
              "    </tr>\n",
              "    <tr>\n",
              "      <th>2</th>\n",
              "      <td>45.4</td>\n",
              "      <td>2764.0</td>\n",
              "      <td>35.33</td>\n",
              "      <td>6.0</td>\n",
              "      <td>0</td>\n",
              "      <td>0</td>\n",
              "      <td>35.33</td>\n",
              "      <td>18.76</td>\n",
              "      <td>never-taker</td>\n",
              "    </tr>\n",
              "    <tr>\n",
              "      <th>3</th>\n",
              "      <td>36.5</td>\n",
              "      <td>1016.0</td>\n",
              "      <td>31.86</td>\n",
              "      <td>15.8</td>\n",
              "      <td>0</td>\n",
              "      <td>0</td>\n",
              "      <td>31.86</td>\n",
              "      <td>36.41</td>\n",
              "      <td>complier</td>\n",
              "    </tr>\n",
              "    <tr>\n",
              "      <th>4</th>\n",
              "      <td>41.1</td>\n",
              "      <td>4022.0</td>\n",
              "      <td>39.57</td>\n",
              "      <td>27.3</td>\n",
              "      <td>0</td>\n",
              "      <td>0</td>\n",
              "      <td>39.57</td>\n",
              "      <td>18.15</td>\n",
              "      <td>never-taker</td>\n",
              "    </tr>\n",
              "  </tbody>\n",
              "</table>\n",
              "</div>"
            ],
            "text/plain": [
              "    age   income  pre_test_score  attendance_score  program_offered  \\\n",
              "0  38.6   9706.0           50.33              20.0                0   \n",
              "1  49.0  14394.0           55.61              25.6                0   \n",
              "2  45.4   2764.0           35.33               6.0                0   \n",
              "3  36.5   1016.0           31.86              15.8                0   \n",
              "4  41.1   4022.0           39.57              27.3                0   \n",
              "\n",
              "   program_participation  post_test_score    tau        categ  \n",
              "0                      0            50.33  16.63  never-taker  \n",
              "1                      0            55.61  33.05     complier  \n",
              "2                      0            35.33  18.76  never-taker  \n",
              "3                      0            31.86  36.41     complier  \n",
              "4                      0            39.57  18.15  never-taker  "
            ]
          },
          "execution_count": 2,
          "metadata": {},
          "output_type": "execute_result"
        }
      ],
      "source": [
        "import pandas as pd\n",
        "import numpy as np\n",
        "\n",
        "df = pd.read_csv(\"./data/9week.csv\")\n",
        "\n",
        "df.head()"
      ]
    },
    {
      "cell_type": "code",
      "execution_count": 3,
      "metadata": {
        "id": "3Z8-I7xFKHSo"
      },
      "outputs": [
        {
          "data": {
            "text/plain": [
              "categ\n",
              "never-taker    5400\n",
              "complier       4600\n",
              "Name: count, dtype: int64"
            ]
          },
          "execution_count": 3,
          "metadata": {},
          "output_type": "execute_result"
        }
      ],
      "source": [
        "df['categ'].value_counts()"
      ]
    },
    {
      "cell_type": "code",
      "execution_count": 4,
      "metadata": {
        "id": "FO6FBIlPKIAI"
      },
      "outputs": [
        {
          "data": {
            "text/plain": [
              "program_offered\n",
              "0    5049\n",
              "1    4951\n",
              "Name: count, dtype: int64"
            ]
          },
          "execution_count": 4,
          "metadata": {},
          "output_type": "execute_result"
        }
      ],
      "source": [
        "df['program_offered'].value_counts()"
      ]
    },
    {
      "cell_type": "markdown",
      "metadata": {
        "id": "ZtHpQnGXKKt7"
      },
      "source": [
        "## 11.2 잠재적 결과\n",
        "불응을 더 정확하게 다루고 식별하려면 잠재적 결과 표기법을 확장해야할 필요가 있습니다. 여기선 Z _____ 가 Y _____에 미치는 영향인 처치 의도 효과(ITTE)를 단순선형회귀로 추정합니다.\n",
        "(___를 채워주세요)"
      ]
    },
    {
      "cell_type": "code",
      "execution_count": 5,
      "metadata": {
        "id": "Yv0iguwx4BwJ"
      },
      "outputs": [
        {
          "name": "stdout",
          "output_type": "stream",
          "text": [
            "===================================================================================\n",
            "                      coef    std err          t      P>|t|      [0.025      0.975]\n",
            "-----------------------------------------------------------------------------------\n",
            "Intercept          40.0047      0.180    222.730      0.000      39.653      40.357\n",
            "program_offered    13.9904      0.255     54.808      0.000      13.490      14.491\n",
            "===================================================================================\n"
          ]
        }
      ],
      "source": [
        "# ITTE 추정\n",
        "m = smf.ols(\"post_test_score ~ program_offered \", data=df).fit()\n",
        "print(m.summary().tables[1])"
      ]
    },
    {
      "cell_type": "code",
      "execution_count": 6,
      "metadata": {
        "id": "msiTBxmi4Bts"
      },
      "outputs": [
        {
          "data": {
            "text/plain": [
              "25.981218000000005"
            ]
          },
          "execution_count": 6,
          "metadata": {},
          "output_type": "execute_result"
        }
      ],
      "source": [
        "# ATE 추정\n",
        "df['tau'].mean()"
      ]
    },
    {
      "cell_type": "code",
      "execution_count": 7,
      "metadata": {
        "id": "DM2rQJOO4BrS"
      },
      "outputs": [
        {
          "name": "stdout",
          "output_type": "stream",
          "text": [
            "=========================================================================================\n",
            "                            coef    std err          t      P>|t|      [0.025      0.975]\n",
            "-----------------------------------------------------------------------------------------\n",
            "Intercept                40.1207      0.085    471.959      0.000      39.954      40.287\n",
            "program_participation    29.7275      0.178    167.381      0.000      29.379      30.076\n",
            "=========================================================================================\n"
          ]
        }
      ],
      "source": [
        "# 단순선형회귀를 통한 ATE 추정\n",
        "m = smf.ols(\"post_test_score ~ program_participation \", data=df).fit()\n",
        "print(m.summary().tables[1])"
      ]
    },
    {
      "cell_type": "markdown",
      "metadata": {
        "id": "eCCitjK3VZja"
      },
      "source": [
        "**Q1** 해당 데이터에서 ITTE는 어떤 것을 의미하나요?"
      ]
    },
    {
      "cell_type": "markdown",
      "metadata": {
        "id": "zRF9uOkOKX0K"
      },
      "source": [
        "## 11.3 도구변수 식별 가정\n",
        "하지만 ATE를 식별할 수 없고 ITTE는 ATE에 대한 편향 추정값인 어려운 상황이므로 추가적인 가정이 필요합니다."
      ]
    },
    {
      "cell_type": "markdown",
      "metadata": {
        "id": "bcUvHyFpKZIj"
      },
      "source": [
        "## 11.4 1단계\n",
        "도구변수의 분석의 첫 번째 단계를 1단계 회귀(first stage)라고 부르는데 이는 처치변수를 도구변수에 대해 회귀하는 단계입니다."
      ]
    },
    {
      "cell_type": "code",
      "execution_count": 8,
      "metadata": {
        "id": "z9f9rH6-4BpA"
      },
      "outputs": [
        {
          "name": "stdout",
          "output_type": "stream",
          "text": [
            "===================================================================================\n",
            "                      coef    std err          t      P>|t|      [0.025      0.975]\n",
            "-----------------------------------------------------------------------------------\n",
            "Intercept        6.045e-15      0.005   1.22e-12      1.000      -0.010       0.010\n",
            "program_offered     0.4627      0.007     65.937      0.000       0.449       0.476\n",
            "===================================================================================\n"
          ]
        }
      ],
      "source": [
        "first_stage = smf.ols(\"program_participation ~ program_offered\", data=df).fit()\n",
        "print(first_stage.summary().tables[1])"
      ]
    },
    {
      "cell_type": "code",
      "execution_count": 9,
      "metadata": {
        "id": "UCbITKwK4Bm0"
      },
      "outputs": [
        {
          "data": {
            "text/plain": [
              "categ\n",
              "complier       0.46\n",
              "never-taker    0.54\n",
              "dtype: float64"
            ]
          },
          "execution_count": 9,
          "metadata": {},
          "output_type": "execute_result"
        }
      ],
      "source": [
        "df.groupby(\"categ\").size()/len(df)"
      ]
    },
    {
      "cell_type": "markdown",
      "metadata": {
        "id": "a2vd1t72XcIR"
      },
      "source": [
        "**Q2** 순응률은 얼마로 추정되고 연관성 가정이 유의미한 결과라고 생각하시나요? 이유와 함께 적어주세요."
      ]
    },
    {
      "cell_type": "markdown",
      "metadata": {},
      "source": []
    },
    {
      "cell_type": "markdown",
      "metadata": {
        "id": "UYHFC7GcKfNm"
      },
      "source": [
        "## 11.5 2단계\n",
        "도구변수의 두 번째 단계는 2단계 또는 축약형(reduced form)이라고 합니다. 이 단계에서는 결과를 도구변수에 회귀하여 처치 의도 효과를 추정합니다."
      ]
    },
    {
      "cell_type": "code",
      "execution_count": 10,
      "metadata": {
        "id": "IGncunA04BkU"
      },
      "outputs": [
        {
          "name": "stdout",
          "output_type": "stream",
          "text": [
            "===================================================================================\n",
            "                      coef    std err          t      P>|t|      [0.025      0.975]\n",
            "-----------------------------------------------------------------------------------\n",
            "Intercept          40.0047      0.180    222.730      0.000      39.653      40.357\n",
            "program_offered    13.9904      0.255     54.808      0.000      13.490      14.491\n",
            "===================================================================================\n"
          ]
        }
      ],
      "source": [
        "red_form = smf.ols(\"post_test_score ~ program_offered \", data=df).fit()\n",
        "print(red_form.summary().tables[1])"
      ]
    },
    {
      "cell_type": "code",
      "execution_count": 11,
      "metadata": {
        "id": "uGqOMITe4BiG"
      },
      "outputs": [
        {
          "data": {
            "text/plain": [
              "30.23411149261892"
            ]
          },
          "execution_count": 11,
          "metadata": {},
          "output_type": "execute_result"
        }
      ],
      "source": [
        "# late값 추정\n",
        "late = (red_form.params['program_offered'] /\n",
        "        first_stage.params['program_offered'])\n",
        "late"
      ]
    },
    {
      "cell_type": "code",
      "execution_count": 12,
      "metadata": {
        "id": "dLVjiY7JASQO"
      },
      "outputs": [
        {
          "data": {
            "text/plain": [
              "categ\n",
              "complier       35.285950\n",
              "never-taker    18.054965\n",
              "Name: tau, dtype: float64"
            ]
          },
          "execution_count": 12,
          "metadata": {},
          "output_type": "execute_result"
        }
      ],
      "source": [
        "df.groupby('categ')['tau'].mean()"
      ]
    },
    {
      "cell_type": "markdown",
      "metadata": {
        "id": "jFsdec-KZ9B7"
      },
      "source": [
        "**Q3** LATE 값을 구하기 위해 코드를 어떻게 작성했는지 설명하고, 그 이유를 설명해주세요."
      ]
    },
    {
      "cell_type": "markdown",
      "metadata": {
        "id": "ShjZfSQfKhYW"
      },
      "source": [
        "## 11.6 2단계 최소제곱법\n"
      ]
    },
    {
      "cell_type": "code",
      "execution_count": 13,
      "metadata": {
        "id": "t_fQF9O_ASOD"
      },
      "outputs": [
        {
          "name": "stdout",
          "output_type": "stream",
          "text": [
            "=========================================================================================\n",
            "                            coef    std err          t      P>|t|      [0.025      0.975]\n",
            "-----------------------------------------------------------------------------------------\n",
            "Intercept                40.1207      0.085    471.959      0.000      39.954      40.287\n",
            "program_participation    29.7275      0.178    167.381      0.000      29.379      30.076\n",
            "=========================================================================================\n"
          ]
        }
      ],
      "source": [
        "iv_regr = smf.ols('post_test_score~program_participation',\n",
        "                  data = df.assign(program_offered=first_stage.fittedvalues)).fit()\n",
        "print(iv_regr.summary().tables[1])"
      ]
    },
    {
      "cell_type": "markdown",
      "metadata": {
        "id": "EFtYl5_6KqoY"
      },
      "source": [
        "## 11.7 표준오차\n"
      ]
    },
    {
      "cell_type": "code",
      "execution_count": 14,
      "metadata": {
        "id": "mo4TqCQ9ASMJ"
      },
      "outputs": [
        {
          "name": "stdout",
          "output_type": "stream",
          "text": [
            "SE IV: 0.32258119027798415\n",
            "95% CI: [29.58894911206295, 30.87927387317489]\n"
          ]
        }
      ],
      "source": [
        "Z  = df['program_offered']\n",
        "T = df['program_participation']\n",
        "n = len(df)\n",
        "\n",
        "# not the same as iv_regr.resid!\n",
        "e_iv = df[\"post_test_score\"] - iv_regr.predict(df)\n",
        "compliance = np.cov(T, Z)[0, 1]/Z.var()\n",
        "\n",
        "se = np.std(e_iv)/(compliance*np.std(Z)*np.sqrt(n))\n",
        "\n",
        "print(\"SE IV:\", se)\n",
        "print(\"95% CI:\", [late - 2*se, late + 2*se])"
      ]
    },
    {
      "cell_type": "code",
      "execution_count": 15,
      "metadata": {
        "id": "svup5RVxASJs"
      },
      "outputs": [
        {
          "name": "stdout",
          "output_type": "stream",
          "text": [
            "                                   Parameter Estimates                                   \n",
            "=========================================================================================\n",
            "                       Parameter  Std. Err.     T-stat    P-value    Lower CI    Upper CI\n",
            "-----------------------------------------------------------------------------------------\n",
            "Intercept                 40.005     0.1051     380.73     0.0000      39.799      40.211\n",
            "program_participation     30.234     0.3227     93.687     0.0000      29.602      30.867\n",
            "=========================================================================================\n"
          ]
        }
      ],
      "source": [
        "from linearmodels import IV2SLS\n",
        "\n",
        "formula = 'post_test_score ~ 1 +[program_participation ~ program_offered]'\n",
        "iv_model = IV2SLS.from_formula(formula, df).fit(cov_type=\"unadjusted\")\n",
        "\n",
        "print(iv_model.summary.tables[1])"
      ]
    },
    {
      "cell_type": "markdown",
      "metadata": {
        "id": "p5v5nVsWbL4C"
      },
      "source": [
        "**Q4** IV2SLS 모델을 사용하여 도구변수를 통한 회귀 분석을 수행하는 이유는 무엇인가요?"
      ]
    },
    {
      "cell_type": "code",
      "execution_count": 16,
      "metadata": {
        "id": "miy4X96YASHW"
      },
      "outputs": [
        {
          "data": {
            "text/plain": [
              "<matplotlib.legend.Legend at 0x25dda555b90>"
            ]
          },
          "execution_count": 16,
          "metadata": {},
          "output_type": "execute_result"
        },
        {
          "data": {
            "image/png": "[encoded data removed]",
            "text/plain": [
              "<Figure size 1400x500 with 2 Axes>"
            ]
          },
          "metadata": {},
          "output_type": "display_data"
        }
      ],
      "source": [
        "se_formula_iv = lambda compliance: np.std(e_iv)/(compliance*np.std(Z)*np.sqrt(n))\n",
        "x = np.linspace(0.01, 1, 50)\n",
        "\n",
        "effect = iv_regr.params[\"program_participation\"]\n",
        "\n",
        "\n",
        "fig, (ax1, ax2) = plt.subplots(1, 2, figsize=(14, 5))\n",
        "\n",
        "ax1.plot(x, effect-se_formula_iv(x)*2, label=\"SE($\\\\beta_{IV}$) x2\", ls=\":\", color=\"0\")\n",
        "ax1.plot(x, effect+se_formula_iv(x)*2, ls=\":\", color=\"0\")\n",
        "ax1.hlines(effect, 0, 1, ls=\"-.\", label=\"LATE\")\n",
        "ax1.hlines(0, 0, 1)\n",
        "ax1.set_xlabel(\"Compliance\")\n",
        "ax1.set_ylim(-(effect+100), (effect+100)*2)\n",
        "ax1.legend(loc=\"lower right\")\n",
        "ax1.set_title(\"95% CI around LATE\");\n",
        "\n",
        "\n",
        "x = np.linspace(0.2, 1, 50)\n",
        "ax2.plot(x, 1/(x**2))\n",
        "ax2.hlines(10, 0.2, 1, ls=\":\", label=\"10\")\n",
        "ax2.hlines(4, 0.2, 1, ls=\"-.\", label=\"4\")\n",
        "ax2.set_xlabel(\"Compliance\")\n",
        "ax2.set_ylabel(\"$N_{IV}$/N\")\n",
        "ax2.set_title(\"Required Sample Size Ratio\")\n",
        "ax2.legend()\n"
      ]
    },
    {
      "cell_type": "markdown",
      "metadata": {
        "id": "n1tnxWexfnNE"
      },
      "source": [
        "**Q5** 해당 그래프를 통해 알 수 있는 것을 적어주세요."
      ]
    },
    {
      "cell_type": "markdown",
      "metadata": {
        "id": "zJEgXszZKtn2"
      },
      "source": [
        "## 11.8 통제변수와 도구변수 추가\n",
        "2SLS 모델에 추가 도구변수를 포함하면, LATE 매개변수의 표준오차를 크게 줄일 수 있습니다"
      ]
    },
    {
      "cell_type": "code",
      "execution_count": 18,
      "metadata": {
        "id": "VmfREGkJB5Nb"
      },
      "outputs": [
        {
          "name": "stdout",
          "output_type": "stream",
          "text": [
            "                                   Parameter Estimates                                   \n",
            "=========================================================================================\n",
            "                       Parameter  Std. Err.     T-stat    P-value    Lower CI    Upper CI\n",
            "-----------------------------------------------------------------------------------------\n",
            "Intercept                 39.976     0.0936     427.13     0.0000      39.792      40.159\n",
            "program_participation     30.362     0.2532     119.92     0.0000      29.865      30.858\n",
            "=========================================================================================\n"
          ]
        }
      ],
      "source": [
        "# attendance_score를 추가 도구변수로 포함해주세요\n",
        "formula = 'post_test_score ~ 1 +[program_participation ~ program_offered + attendance_score]'\n",
        "iv_model = IV2SLS.from_formula(formula, df).fit()\n",
        "\n",
        "print(iv_model.summary.tables[1])"
      ]
    },
    {
      "cell_type": "markdown",
      "metadata": {
        "id": "hRrkJBikd08N"
      },
      "source": [
        "나이와 소득이 시험점수 향상에 도움이 된다고 가정하고 해당 변수를 추가 통제변수로 포함하여 표준오차가 줄여지는지 확인해보겠습니다."
      ]
    },
    {
      "cell_type": "code",
      "execution_count": 19,
      "metadata": {
        "id": "j0sJdRHOB5J_"
      },
      "outputs": [
        {
          "name": "stdout",
          "output_type": "stream",
          "text": [
            "                                   Parameter Estimates                                   \n",
            "=========================================================================================\n",
            "                       Parameter  Std. Err.     T-stat    P-value    Lower CI    Upper CI\n",
            "-----------------------------------------------------------------------------------------\n",
            "Intercept                 30.098     0.1103     272.85     0.0000      29.882      30.315\n",
            "income                    0.0017  2.794e-06     600.21     0.0000      0.0017      0.0017\n",
            "age                       0.0457     0.0025     18.526     0.0000      0.0409      0.0505\n",
            "program_participation     30.045     0.0414     725.86     0.0000      29.964      30.127\n",
            "=========================================================================================\n"
          ]
        }
      ],
      "source": [
        "formula = ''' post_test_score ~ 1\n",
        "+[program_participation ~ program_offered + attendance_score]\n",
        "+ income + age\n",
        "'''\n",
        "\n",
        "iv_model = IV2SLS.from_formula(formula, df).fit(cov_type=\"unadjusted\")\n",
        "\n",
        "print(iv_model.summary.tables[1])"
      ]
    },
    {
      "cell_type": "markdown",
      "metadata": {
        "id": "jUaCMKZseJC6"
      },
      "source": [
        "**Q6** 통제변수가 표준오차를 줄이는데 유의미한 영향을 미쳤나요? 판단한 근거와 함께 적어주세요.\n"
      ]
    },
    {
      "cell_type": "markdown",
      "metadata": {
        "id": "RfwnH0bUKvZ9"
      },
      "source": [
        "### 11.8.1 2SLS 직접 구현\n"
      ]
    },
    {
      "cell_type": "code",
      "execution_count": 21,
      "metadata": {
        "id": "rhmt-coICKXl"
      },
      "outputs": [
        {
          "name": "stdout",
          "output_type": "stream",
          "text": [
            "=========================================================================================\n",
            "                            coef    std err          t      P>|t|      [0.025      0.975]\n",
            "-----------------------------------------------------------------------------------------\n",
            "Intercept                30.3777      0.107    282.851      0.000      30.167      30.588\n",
            "program_participation    29.5146      0.029   1032.882      0.000      29.459      29.571\n",
            "income                    0.0017   2.75e-06    610.927      0.000       0.002       0.002\n",
            "age                       0.0420      0.002     17.374      0.000       0.037       0.047\n",
            "=========================================================================================\n"
          ]
        }
      ],
      "source": [
        "formula_1st = \"program_participation ~ program_offered + attendance_score + income+age\"\n",
        "first_stage = smf.ols(formula_1st, data=df).fit()\n",
        "\n",
        "iv_model = smf.ols(\n",
        "    \"post_test_score ~ program_participation + income + age\",\n",
        "    data=df.assign(prime_card=first_stage.fittedvalues)).fit()\n",
        "\n",
        "print(iv_model.summary().tables[1])"
      ]
    },
    {
      "cell_type": "markdown",
      "metadata": {
        "id": "2mkKJoANKw9h"
      },
      "source": [
        "### 11.8.2 행렬 구현\n"
      ]
    },
    {
      "cell_type": "code",
      "execution_count": 23,
      "metadata": {
        "id": "nNoQBRMoCTCt"
      },
      "outputs": [
        {
          "data": {
            "text/plain": [
              "array([30.04537296])"
            ]
          },
          "execution_count": 23,
          "metadata": {},
          "output_type": "execute_result"
        }
      ],
      "source": [
        "Z = df[['program_offered', 'attendance_score', 'income', 'age']].values\n",
        "X = df[['program_participation', 'income', 'age']].values\n",
        "Y = df[['post_test_score']].values\n",
        "\n",
        "def add_intercept(x):\n",
        "    return np.concatenate([np.ones((x.shape[0], 1)), x], axis=1)\n",
        "\n",
        "Z_ = add_intercept(Z)\n",
        "X_ = add_intercept(X)\n",
        "\n",
        "# pre-multiplying Z_.dot(...) last is important to avoid\n",
        "# creating a huge NxN matrix\n",
        "X_hat = Z_.dot(np.linalg.inv(Z_.T.dot(Z_)).dot(Z_.T).dot(X_))\n",
        "\n",
        "b_iv = np.linalg.inv(X_hat.T.dot(X_hat)).dot(X_hat.T).dot(Y)\n",
        "b_iv[1]"
      ]
    },
    {
      "cell_type": "code",
      "execution_count": 24,
      "metadata": {
        "id": "Ina3cjR-Ca3F"
      },
      "outputs": [
        {
          "data": {
            "text/plain": [
              "0.04139273741591478"
            ]
          },
          "execution_count": 24,
          "metadata": {},
          "output_type": "execute_result"
        }
      ],
      "source": [
        "e_hat_iv = (Y - X_.dot(b_iv))\n",
        "\n",
        "var = e_hat_iv.var()*np.diag(np.linalg.inv(X_hat.T.dot(X_hat)))\n",
        "\n",
        "np.sqrt(var[1])"
      ]
    },
    {
      "cell_type": "code",
      "execution_count": 25,
      "metadata": {
        "id": "JpItgKn7CsBG"
      },
      "outputs": [
        {
          "data": {
            "text/plain": [
              "0.04124227991119445"
            ]
          },
          "execution_count": 25,
          "metadata": {},
          "output_type": "execute_result"
        }
      ],
      "source": [
        "t_tilde = smf.ols(\"program_participation ~ income + age\", data=df).fit().resid\n",
        "\n",
        "e_hat_iv.std()/(t_tilde.std()*np.sqrt(n*first_stage.rsquared))"
      ]
    },
    {
      "cell_type": "markdown",
      "metadata": {
        "id": "FDeTaNioemL3"
      },
      "source": [
        "**Q7** 위에서 linearmodels 패키지를 사용한 방법과 행렬 연산을 통해 구현한 방법 중 어느 것이 도구변수 추정값을 얻는 데 더 적합할까요? 그 이유를 설명해주세요.\n",
        "\n"
      ]
    },
    {
      "cell_type": "markdown",
      "metadata": {},
      "source": []
    }
  ],
  "metadata": {
    "colab": {
      "provenance": []
    },
    "kernelspec": {
      "display_name": "Python 3",
      "name": "python3"
    },
    "language_info": {
      "codemirror_mode": {
        "name": "ipython",
        "version": 3
      },
      "file_extension": ".py",
      "mimetype": "text/x-python",
      "name": "python",
      "nbconvert_exporter": "python",
      "pygments_lexer": "ipython3",
      "version": "3.11.9"
    }
  },
  "nbformat": 4,
  "nbformat_minor": 0
}
