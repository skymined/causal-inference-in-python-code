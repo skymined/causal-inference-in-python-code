{
  "cells": [
    {
      "cell_type": "markdown",
      "metadata": {
        "id": "t5ZaU6cI6qjS"
      },
      "source": [
        "## [7주차 과제] 통제집단합성법\n",
        "\n",
        "해당 데이터는 영아사망률 감소에 있어 NGO의 구호활동의 효과를 측정하기 위해 생성한 가상의 결과입니다.\n",
        "이번 과제의 목표는 통제집단합성법의 쓰임새를 이해하는 것입니다.\n",
        "\n",
        "\n",
        "---\n",
        "**과제 가이드**\n",
        "\n",
        "'date': 날짜 (월별)\n",
        "'city': 도시\n",
        "'treated': 구호활동(처치) 여부\n",
        "'ratio': 영아사망률\n",
        "\n",
        "1. ATT 추정의 측면에서 수평 회귀 분석, 표준 통제집단합성법, 합성 이중차분법의 차이를 확인해봅니다.\n",
        "2. 처치 이전 데이터가 충분히 확보되었는지 여부에 따라 추정 결과에 차이가 생기는지 확인해봅니다.\n",
        "\n",
        "---\n",
        "\n",
        "\n",
        "과제 제출 기한: 2024년 7월 11일(목) 19:00<br>\n",
        "제출 방법: `#24s-causal-inference` Slack 채널에 작성한 Notion 링크 공유<br>\n",
        "\n",
        "*출제자: 권정연, 최목원 <br>\n",
        "최종 수정일: 2024년 7월 8일(월) 12:00*\n",
        "\n"
      ]
    },
    {
      "cell_type": "markdown",
      "metadata": {
        "id": "A8j3xpUxcpQG"
      },
      "source": [
        "### 1. 라이브러리 세팅"
      ]
    },
    {
      "cell_type": "code",
      "execution_count": 5,
      "metadata": {
        "id": "kZmV2L6t5C1Z"
      },
      "outputs": [],
      "source": [
        "from toolz.curried import *\n",
        "\n",
        "\n",
        "import pandas as pd\n",
        "import numpy as np\n",
        "\n",
        "import statsmodels.formula.api as smf\n",
        "\n",
        "import seaborn as sns\n",
        "from matplotlib import pyplot as plt\n",
        "import matplotlib\n",
        "\n",
        "from cycler import cycler\n",
        "\n",
        "color=['0.0', '0.4', '0.8']\n",
        "default_cycler = (cycler(color=color))\n",
        "linestyle=['-', '--', ':', '-.']\n",
        "marker=['o', 'v', 'd', 'p']\n",
        "\n",
        "plt.rc('axes', prop_cycle=default_cycler)"
      ]
    },
    {
      "cell_type": "markdown",
      "metadata": {
        "id": "JZWR6wGLcv6D"
      },
      "source": [
        "### 2. 데이터 준비"
      ]
    },
    {
      "cell_type": "markdown",
      "metadata": {
        "id": "N1gEPPESyM3U"
      },
      "source": [
        "데이터 준비과정에서는 , 데이터를 불러오고 실험군을 설정합니다.\n",
        "\n",
        "그리고 post열을 생성하여 실험군의 평균과 대조군의 평균을 그래프로 나타내봅니다."
      ]
    },
    {
      "cell_type": "markdown",
      "metadata": {
        "id": "WgIeFZDvyM3U"
      },
      "source": [
        "- 데이터 불러오기"
      ]
    },
    {
      "cell_type": "code",
      "execution_count": 2,
      "metadata": {
        "id": "l0Ekmp4N-gwP"
      },
      "outputs": [
        {
          "ename": "FileNotFoundError",
          "evalue": "[Errno 2] No such file or directory: '7thweek_data.csv'",
          "output_type": "error",
          "traceback": [
            "\u001b[1;31m---------------------------------------------------------------------------\u001b[0m",
            "\u001b[1;31mFileNotFoundError\u001b[0m                         Traceback (most recent call last)",
            "Cell \u001b[1;32mIn[2], line 4\u001b[0m\n\u001b[0;32m      1\u001b[0m \u001b[38;5;28;01mimport\u001b[39;00m \u001b[38;5;21;01mpandas\u001b[39;00m \u001b[38;5;28;01mas\u001b[39;00m \u001b[38;5;21;01mpd\u001b[39;00m\n\u001b[0;32m      2\u001b[0m \u001b[38;5;28;01mimport\u001b[39;00m \u001b[38;5;21;01mnumpy\u001b[39;00m \u001b[38;5;28;01mas\u001b[39;00m \u001b[38;5;21;01mnp\u001b[39;00m\n\u001b[1;32m----> 4\u001b[0m df \u001b[38;5;241m=\u001b[39m (\u001b[43mpd\u001b[49m\u001b[38;5;241;43m.\u001b[39;49m\u001b[43mread_csv\u001b[49m\u001b[43m(\u001b[49m\u001b[38;5;124;43m\"\u001b[39;49m\u001b[38;5;124;43m7thweek_data.csv\u001b[39;49m\u001b[38;5;124;43m\"\u001b[39;49m\u001b[43m)\u001b[49m\n\u001b[0;32m      5\u001b[0m       \u001b[38;5;241m.\u001b[39mastype({\u001b[38;5;124m\"\u001b[39m\u001b[38;5;124mdate\u001b[39m\u001b[38;5;124m\"\u001b[39m:\u001b[38;5;124m\"\u001b[39m\u001b[38;5;124mdatetime64[ns]\u001b[39m\u001b[38;5;124m\"\u001b[39m})\n\u001b[0;32m      6\u001b[0m       \u001b[38;5;241m.\u001b[39mdrop(\u001b[38;5;124m'\u001b[39m\u001b[38;5;124mUnnamed: 0\u001b[39m\u001b[38;5;124m'\u001b[39m, axis\u001b[38;5;241m=\u001b[39m\u001b[38;5;241m1\u001b[39m))\n\u001b[0;32m      8\u001b[0m df\u001b[38;5;241m.\u001b[39mhead()\n",
            "File \u001b[1;32mc:\\Users\\adsky\\OneDrive\\바탕 화면\\DATA_CAMP\\Develops\\causal-inference-p-study\\casual-inference\\Lib\\site-packages\\pandas\\io\\parsers\\readers.py:1026\u001b[0m, in \u001b[0;36mread_csv\u001b[1;34m(filepath_or_buffer, sep, delimiter, header, names, index_col, usecols, dtype, engine, converters, true_values, false_values, skipinitialspace, skiprows, skipfooter, nrows, na_values, keep_default_na, na_filter, verbose, skip_blank_lines, parse_dates, infer_datetime_format, keep_date_col, date_parser, date_format, dayfirst, cache_dates, iterator, chunksize, compression, thousands, decimal, lineterminator, quotechar, quoting, doublequote, escapechar, comment, encoding, encoding_errors, dialect, on_bad_lines, delim_whitespace, low_memory, memory_map, float_precision, storage_options, dtype_backend)\u001b[0m\n\u001b[0;32m   1013\u001b[0m kwds_defaults \u001b[38;5;241m=\u001b[39m _refine_defaults_read(\n\u001b[0;32m   1014\u001b[0m     dialect,\n\u001b[0;32m   1015\u001b[0m     delimiter,\n\u001b[1;32m   (...)\u001b[0m\n\u001b[0;32m   1022\u001b[0m     dtype_backend\u001b[38;5;241m=\u001b[39mdtype_backend,\n\u001b[0;32m   1023\u001b[0m )\n\u001b[0;32m   1024\u001b[0m kwds\u001b[38;5;241m.\u001b[39mupdate(kwds_defaults)\n\u001b[1;32m-> 1026\u001b[0m \u001b[38;5;28;01mreturn\u001b[39;00m \u001b[43m_read\u001b[49m\u001b[43m(\u001b[49m\u001b[43mfilepath_or_buffer\u001b[49m\u001b[43m,\u001b[49m\u001b[43m \u001b[49m\u001b[43mkwds\u001b[49m\u001b[43m)\u001b[49m\n",
            "File \u001b[1;32mc:\\Users\\adsky\\OneDrive\\바탕 화면\\DATA_CAMP\\Develops\\causal-inference-p-study\\casual-inference\\Lib\\site-packages\\pandas\\io\\parsers\\readers.py:620\u001b[0m, in \u001b[0;36m_read\u001b[1;34m(filepath_or_buffer, kwds)\u001b[0m\n\u001b[0;32m    617\u001b[0m _validate_names(kwds\u001b[38;5;241m.\u001b[39mget(\u001b[38;5;124m\"\u001b[39m\u001b[38;5;124mnames\u001b[39m\u001b[38;5;124m\"\u001b[39m, \u001b[38;5;28;01mNone\u001b[39;00m))\n\u001b[0;32m    619\u001b[0m \u001b[38;5;66;03m# Create the parser.\u001b[39;00m\n\u001b[1;32m--> 620\u001b[0m parser \u001b[38;5;241m=\u001b[39m \u001b[43mTextFileReader\u001b[49m\u001b[43m(\u001b[49m\u001b[43mfilepath_or_buffer\u001b[49m\u001b[43m,\u001b[49m\u001b[43m \u001b[49m\u001b[38;5;241;43m*\u001b[39;49m\u001b[38;5;241;43m*\u001b[39;49m\u001b[43mkwds\u001b[49m\u001b[43m)\u001b[49m\n\u001b[0;32m    622\u001b[0m \u001b[38;5;28;01mif\u001b[39;00m chunksize \u001b[38;5;129;01mor\u001b[39;00m iterator:\n\u001b[0;32m    623\u001b[0m     \u001b[38;5;28;01mreturn\u001b[39;00m parser\n",
            "File \u001b[1;32mc:\\Users\\adsky\\OneDrive\\바탕 화면\\DATA_CAMP\\Develops\\causal-inference-p-study\\casual-inference\\Lib\\site-packages\\pandas\\io\\parsers\\readers.py:1620\u001b[0m, in \u001b[0;36mTextFileReader.__init__\u001b[1;34m(self, f, engine, **kwds)\u001b[0m\n\u001b[0;32m   1617\u001b[0m     \u001b[38;5;28mself\u001b[39m\u001b[38;5;241m.\u001b[39moptions[\u001b[38;5;124m\"\u001b[39m\u001b[38;5;124mhas_index_names\u001b[39m\u001b[38;5;124m\"\u001b[39m] \u001b[38;5;241m=\u001b[39m kwds[\u001b[38;5;124m\"\u001b[39m\u001b[38;5;124mhas_index_names\u001b[39m\u001b[38;5;124m\"\u001b[39m]\n\u001b[0;32m   1619\u001b[0m \u001b[38;5;28mself\u001b[39m\u001b[38;5;241m.\u001b[39mhandles: IOHandles \u001b[38;5;241m|\u001b[39m \u001b[38;5;28;01mNone\u001b[39;00m \u001b[38;5;241m=\u001b[39m \u001b[38;5;28;01mNone\u001b[39;00m\n\u001b[1;32m-> 1620\u001b[0m \u001b[38;5;28mself\u001b[39m\u001b[38;5;241m.\u001b[39m_engine \u001b[38;5;241m=\u001b[39m \u001b[38;5;28;43mself\u001b[39;49m\u001b[38;5;241;43m.\u001b[39;49m\u001b[43m_make_engine\u001b[49m\u001b[43m(\u001b[49m\u001b[43mf\u001b[49m\u001b[43m,\u001b[49m\u001b[43m \u001b[49m\u001b[38;5;28;43mself\u001b[39;49m\u001b[38;5;241;43m.\u001b[39;49m\u001b[43mengine\u001b[49m\u001b[43m)\u001b[49m\n",
            "File \u001b[1;32mc:\\Users\\adsky\\OneDrive\\바탕 화면\\DATA_CAMP\\Develops\\causal-inference-p-study\\casual-inference\\Lib\\site-packages\\pandas\\io\\parsers\\readers.py:1880\u001b[0m, in \u001b[0;36mTextFileReader._make_engine\u001b[1;34m(self, f, engine)\u001b[0m\n\u001b[0;32m   1878\u001b[0m     \u001b[38;5;28;01mif\u001b[39;00m \u001b[38;5;124m\"\u001b[39m\u001b[38;5;124mb\u001b[39m\u001b[38;5;124m\"\u001b[39m \u001b[38;5;129;01mnot\u001b[39;00m \u001b[38;5;129;01min\u001b[39;00m mode:\n\u001b[0;32m   1879\u001b[0m         mode \u001b[38;5;241m+\u001b[39m\u001b[38;5;241m=\u001b[39m \u001b[38;5;124m\"\u001b[39m\u001b[38;5;124mb\u001b[39m\u001b[38;5;124m\"\u001b[39m\n\u001b[1;32m-> 1880\u001b[0m \u001b[38;5;28mself\u001b[39m\u001b[38;5;241m.\u001b[39mhandles \u001b[38;5;241m=\u001b[39m \u001b[43mget_handle\u001b[49m\u001b[43m(\u001b[49m\n\u001b[0;32m   1881\u001b[0m \u001b[43m    \u001b[49m\u001b[43mf\u001b[49m\u001b[43m,\u001b[49m\n\u001b[0;32m   1882\u001b[0m \u001b[43m    \u001b[49m\u001b[43mmode\u001b[49m\u001b[43m,\u001b[49m\n\u001b[0;32m   1883\u001b[0m \u001b[43m    \u001b[49m\u001b[43mencoding\u001b[49m\u001b[38;5;241;43m=\u001b[39;49m\u001b[38;5;28;43mself\u001b[39;49m\u001b[38;5;241;43m.\u001b[39;49m\u001b[43moptions\u001b[49m\u001b[38;5;241;43m.\u001b[39;49m\u001b[43mget\u001b[49m\u001b[43m(\u001b[49m\u001b[38;5;124;43m\"\u001b[39;49m\u001b[38;5;124;43mencoding\u001b[39;49m\u001b[38;5;124;43m\"\u001b[39;49m\u001b[43m,\u001b[49m\u001b[43m \u001b[49m\u001b[38;5;28;43;01mNone\u001b[39;49;00m\u001b[43m)\u001b[49m\u001b[43m,\u001b[49m\n\u001b[0;32m   1884\u001b[0m \u001b[43m    \u001b[49m\u001b[43mcompression\u001b[49m\u001b[38;5;241;43m=\u001b[39;49m\u001b[38;5;28;43mself\u001b[39;49m\u001b[38;5;241;43m.\u001b[39;49m\u001b[43moptions\u001b[49m\u001b[38;5;241;43m.\u001b[39;49m\u001b[43mget\u001b[49m\u001b[43m(\u001b[49m\u001b[38;5;124;43m\"\u001b[39;49m\u001b[38;5;124;43mcompression\u001b[39;49m\u001b[38;5;124;43m\"\u001b[39;49m\u001b[43m,\u001b[49m\u001b[43m \u001b[49m\u001b[38;5;28;43;01mNone\u001b[39;49;00m\u001b[43m)\u001b[49m\u001b[43m,\u001b[49m\n\u001b[0;32m   1885\u001b[0m \u001b[43m    \u001b[49m\u001b[43mmemory_map\u001b[49m\u001b[38;5;241;43m=\u001b[39;49m\u001b[38;5;28;43mself\u001b[39;49m\u001b[38;5;241;43m.\u001b[39;49m\u001b[43moptions\u001b[49m\u001b[38;5;241;43m.\u001b[39;49m\u001b[43mget\u001b[49m\u001b[43m(\u001b[49m\u001b[38;5;124;43m\"\u001b[39;49m\u001b[38;5;124;43mmemory_map\u001b[39;49m\u001b[38;5;124;43m\"\u001b[39;49m\u001b[43m,\u001b[49m\u001b[43m \u001b[49m\u001b[38;5;28;43;01mFalse\u001b[39;49;00m\u001b[43m)\u001b[49m\u001b[43m,\u001b[49m\n\u001b[0;32m   1886\u001b[0m \u001b[43m    \u001b[49m\u001b[43mis_text\u001b[49m\u001b[38;5;241;43m=\u001b[39;49m\u001b[43mis_text\u001b[49m\u001b[43m,\u001b[49m\n\u001b[0;32m   1887\u001b[0m \u001b[43m    \u001b[49m\u001b[43merrors\u001b[49m\u001b[38;5;241;43m=\u001b[39;49m\u001b[38;5;28;43mself\u001b[39;49m\u001b[38;5;241;43m.\u001b[39;49m\u001b[43moptions\u001b[49m\u001b[38;5;241;43m.\u001b[39;49m\u001b[43mget\u001b[49m\u001b[43m(\u001b[49m\u001b[38;5;124;43m\"\u001b[39;49m\u001b[38;5;124;43mencoding_errors\u001b[39;49m\u001b[38;5;124;43m\"\u001b[39;49m\u001b[43m,\u001b[49m\u001b[43m \u001b[49m\u001b[38;5;124;43m\"\u001b[39;49m\u001b[38;5;124;43mstrict\u001b[39;49m\u001b[38;5;124;43m\"\u001b[39;49m\u001b[43m)\u001b[49m\u001b[43m,\u001b[49m\n\u001b[0;32m   1888\u001b[0m \u001b[43m    \u001b[49m\u001b[43mstorage_options\u001b[49m\u001b[38;5;241;43m=\u001b[39;49m\u001b[38;5;28;43mself\u001b[39;49m\u001b[38;5;241;43m.\u001b[39;49m\u001b[43moptions\u001b[49m\u001b[38;5;241;43m.\u001b[39;49m\u001b[43mget\u001b[49m\u001b[43m(\u001b[49m\u001b[38;5;124;43m\"\u001b[39;49m\u001b[38;5;124;43mstorage_options\u001b[39;49m\u001b[38;5;124;43m\"\u001b[39;49m\u001b[43m,\u001b[49m\u001b[43m \u001b[49m\u001b[38;5;28;43;01mNone\u001b[39;49;00m\u001b[43m)\u001b[49m\u001b[43m,\u001b[49m\n\u001b[0;32m   1889\u001b[0m \u001b[43m\u001b[49m\u001b[43m)\u001b[49m\n\u001b[0;32m   1890\u001b[0m \u001b[38;5;28;01massert\u001b[39;00m \u001b[38;5;28mself\u001b[39m\u001b[38;5;241m.\u001b[39mhandles \u001b[38;5;129;01mis\u001b[39;00m \u001b[38;5;129;01mnot\u001b[39;00m \u001b[38;5;28;01mNone\u001b[39;00m\n\u001b[0;32m   1891\u001b[0m f \u001b[38;5;241m=\u001b[39m \u001b[38;5;28mself\u001b[39m\u001b[38;5;241m.\u001b[39mhandles\u001b[38;5;241m.\u001b[39mhandle\n",
            "File \u001b[1;32mc:\\Users\\adsky\\OneDrive\\바탕 화면\\DATA_CAMP\\Develops\\causal-inference-p-study\\casual-inference\\Lib\\site-packages\\pandas\\io\\common.py:873\u001b[0m, in \u001b[0;36mget_handle\u001b[1;34m(path_or_buf, mode, encoding, compression, memory_map, is_text, errors, storage_options)\u001b[0m\n\u001b[0;32m    868\u001b[0m \u001b[38;5;28;01melif\u001b[39;00m \u001b[38;5;28misinstance\u001b[39m(handle, \u001b[38;5;28mstr\u001b[39m):\n\u001b[0;32m    869\u001b[0m     \u001b[38;5;66;03m# Check whether the filename is to be opened in binary mode.\u001b[39;00m\n\u001b[0;32m    870\u001b[0m     \u001b[38;5;66;03m# Binary mode does not support 'encoding' and 'newline'.\u001b[39;00m\n\u001b[0;32m    871\u001b[0m     \u001b[38;5;28;01mif\u001b[39;00m ioargs\u001b[38;5;241m.\u001b[39mencoding \u001b[38;5;129;01mand\u001b[39;00m \u001b[38;5;124m\"\u001b[39m\u001b[38;5;124mb\u001b[39m\u001b[38;5;124m\"\u001b[39m \u001b[38;5;129;01mnot\u001b[39;00m \u001b[38;5;129;01min\u001b[39;00m ioargs\u001b[38;5;241m.\u001b[39mmode:\n\u001b[0;32m    872\u001b[0m         \u001b[38;5;66;03m# Encoding\u001b[39;00m\n\u001b[1;32m--> 873\u001b[0m         handle \u001b[38;5;241m=\u001b[39m \u001b[38;5;28;43mopen\u001b[39;49m\u001b[43m(\u001b[49m\n\u001b[0;32m    874\u001b[0m \u001b[43m            \u001b[49m\u001b[43mhandle\u001b[49m\u001b[43m,\u001b[49m\n\u001b[0;32m    875\u001b[0m \u001b[43m            \u001b[49m\u001b[43mioargs\u001b[49m\u001b[38;5;241;43m.\u001b[39;49m\u001b[43mmode\u001b[49m\u001b[43m,\u001b[49m\n\u001b[0;32m    876\u001b[0m \u001b[43m            \u001b[49m\u001b[43mencoding\u001b[49m\u001b[38;5;241;43m=\u001b[39;49m\u001b[43mioargs\u001b[49m\u001b[38;5;241;43m.\u001b[39;49m\u001b[43mencoding\u001b[49m\u001b[43m,\u001b[49m\n\u001b[0;32m    877\u001b[0m \u001b[43m            \u001b[49m\u001b[43merrors\u001b[49m\u001b[38;5;241;43m=\u001b[39;49m\u001b[43merrors\u001b[49m\u001b[43m,\u001b[49m\n\u001b[0;32m    878\u001b[0m \u001b[43m            \u001b[49m\u001b[43mnewline\u001b[49m\u001b[38;5;241;43m=\u001b[39;49m\u001b[38;5;124;43m\"\u001b[39;49m\u001b[38;5;124;43m\"\u001b[39;49m\u001b[43m,\u001b[49m\n\u001b[0;32m    879\u001b[0m \u001b[43m        \u001b[49m\u001b[43m)\u001b[49m\n\u001b[0;32m    880\u001b[0m     \u001b[38;5;28;01melse\u001b[39;00m:\n\u001b[0;32m    881\u001b[0m         \u001b[38;5;66;03m# Binary mode\u001b[39;00m\n\u001b[0;32m    882\u001b[0m         handle \u001b[38;5;241m=\u001b[39m \u001b[38;5;28mopen\u001b[39m(handle, ioargs\u001b[38;5;241m.\u001b[39mmode)\n",
            "\u001b[1;31mFileNotFoundError\u001b[0m: [Errno 2] No such file or directory: '7thweek_data.csv'"
          ]
        }
      ],
      "source": [
        "import pandas as pd\n",
        "import numpy as np\n",
        "\n",
        "df = (pd.read_csv(\"7thweek_data.csv\")\n",
        "      .astype({\"date\":\"datetime64[ns]\"})\n",
        "      .drop('Unnamed: 0', axis=1))\n",
        "\n",
        "df.head()"
      ]
    },
    {
      "cell_type": "markdown",
      "metadata": {
        "id": "vnXu4APqyM3V"
      },
      "source": [
        "- 실험군 설정하기"
      ]
    },
    {
      "cell_type": "code",
      "execution_count": null,
      "metadata": {
        "id": "z8gicAcx599v"
      },
      "outputs": [],
      "source": [
        "# 필요한 정보\n",
        "cities = list('ABCDEFGHIJKLMNOPQRSTUVWXYZ')\n",
        "tr_period = df[df['treated']==1][\"date\"].min()\n",
        "treated = list('ABC')"
      ]
    },
    {
      "cell_type": "markdown",
      "metadata": {
        "id": "Yn0FdioByM3V"
      },
      "source": [
        "- post 열 만들기"
      ]
    },
    {
      "cell_type": "code",
      "execution_count": null,
      "metadata": {
        "id": "XpHEF0Zy6aKe"
      },
      "outputs": [],
      "source": [
        "# post 열 만들기\n",
        "df['post'] = (_______).astype(int)\n",
        "df.head()"
      ]
    },
    {
      "cell_type": "markdown",
      "metadata": {
        "id": "vyyoRqeSyM3W"
      },
      "source": [
        "- 실험군의 평균과 대조군의 평균 그래프 생성"
      ]
    },
    {
      "cell_type": "code",
      "execution_count": null,
      "metadata": {
        "id": "eGvpGxJY_Y20"
      },
      "outputs": [],
      "source": [
        "np.random.seed(123)\n",
        "\n",
        "df_sc = df.pivot(index= \"date\",\n",
        "                 columns = \"city\",\n",
        "                 values = \"ratio\")\n",
        "\n",
        "ax = df_sc[treated].mean(axis=1).plot(figsize=(15,6), label=\"$E[Y|D=1]$\")\n",
        "ax.vlines(tr_period, 0.04, 0.11, ls=\"dashed\", label=\"$t=T_{pre}+1$\")\n",
        "ax.legend()\n",
        "df_sc.drop(columns=treated).sample(frac=0.2, axis=1).plot(color=\"0.5\", alpha=0.2, legend=False, ax=ax)\n",
        "plt.ylabel(\"ratio\")"
      ]
    },
    {
      "cell_type": "markdown",
      "metadata": {
        "id": "-r98bfbhyM3X"
      },
      "source": [
        "개입 이후 영아 사망률이 감소하는 것을 볼 수 있지만, 이것이 과연 처치에 의해서인지는 명확하지 않습니다.\n",
        "\n",
        "따라서 먼저 반사실을 추정해야 합니다."
      ]
    },
    {
      "cell_type": "code",
      "execution_count": null,
      "metadata": {
        "id": "1UktdAjF7sgs"
      },
      "outputs": [],
      "source": [
        "df_sc = df.pivot(index= \"date\",\n",
        "                 columns = \"city\",\n",
        "                 values = \"ratio\")\n",
        "df_sc"
      ]
    },
    {
      "cell_type": "markdown",
      "metadata": {
        "id": "4pKLLImlyM3X"
      },
      "source": [
        "### 3. 통제 집단 합성법과 수평 회귀 분석"
      ]
    },
    {
      "cell_type": "markdown",
      "metadata": {
        "id": "2XZDyR3-yM3Y"
      },
      "source": [
        "데이터에 대해 잘 살펴보았으니, 이제는 본격적으로 통제집단 합성법에 관해 알아봐야겠죠?\n",
        "\n",
        "먼저 수평 회귀 분석을 통해 통제 집단을 합성해봅시다.<br>\n",
        "\n",
        "이때, 처치 이전의 데이터가 제한적인 경우 합성 결과가 어떻게 달라질까요? 주어진 데이터와 제한적인 데이터를 비교하여 분석을 진행합니다."
      ]
    },
    {
      "cell_type": "markdown",
      "metadata": {
        "id": "Q-LczRguyM3Y"
      },
      "source": [
        "1 ) 처치 이전의 기간이 긴 경우"
      ]
    },
    {
      "cell_type": "markdown",
      "metadata": {
        "id": "taHc4YlVyM3Y"
      },
      "source": [
        "- 행렬 표현"
      ]
    },
    {
      "cell_type": "code",
      "execution_count": null,
      "metadata": {
        "id": "uv60pMoF-_rb"
      },
      "outputs": [],
      "source": [
        "def reshape_sc_data(df: pd.DataFrame,\n",
        "                    geo_col: str,\n",
        "                    time_col: str,\n",
        "                    y_col: str,\n",
        "                    tr_geos: str,\n",
        "                    tr_start: str):\n",
        "\n",
        "    df_pivot = df.pivot(index = time_col,\n",
        "                        columns = geo_col,\n",
        "                        values = y_col)\n",
        "\n",
        "    y_co = df_pivot.drop(columns=tr_geos)\n",
        "    y_tr = df_pivot[tr_geos]\n",
        "\n",
        "    y_pre_co = y_co[df_pivot.index < tr_start]\n",
        "    y_pre_tr = y_tr[df_pivot.index < tr_start]\n",
        "\n",
        "    y_post_co = y_co[df_pivot.index >= tr_start]\n",
        "    y_post_tr = y_tr[df_pivot.index >= tr_start]\n",
        "\n",
        "    return y_pre_co, y_pre_tr, y_post_co, y_post_tr"
      ]
    },
    {
      "cell_type": "code",
      "execution_count": null,
      "metadata": {
        "id": "-98yBu7R_ATc"
      },
      "outputs": [],
      "source": [
        "#4종류의 행렬 만들기\n",
        "y_pre_co, y_pre_tr, y_post_co, y_post_tr = reshape_sc_data(\n",
        "    df,\n",
        "    geo_col=\"city\",\n",
        "    time_col=\"date\",\n",
        "    y_col=\"ratio\",\n",
        "    tr_geos=treated,\n",
        "    tr_start=str(tr_period)\n",
        ")\n",
        "\n",
        "#실험군 행렬, 대조군 행렬 만들기\n",
        "y_co = pd.concat(___)\n",
        "y_tr = pd.concat(___)\n",
        "\n",
        "#y_pre_tr.head()"
      ]
    },
    {
      "cell_type": "markdown",
      "metadata": {
        "id": "fZJdi_yvyM3Z"
      },
      "source": [
        "- 수평 회귀분석을 통한 합성통제집단 만들기"
      ]
    },
    {
      "cell_type": "code",
      "execution_count": null,
      "metadata": {
        "id": "8eEGpZrlDtHG"
      },
      "outputs": [],
      "source": [
        "from sklearn.linear_model import LinearRegression\n",
        "\n",
        "model = LinearRegression(fit_intercept=False)\n",
        "model.fit(___, ___)\n",
        "\n",
        "# 가중치 추출\n",
        "weights_lr = ___\n",
        "weights_lr.round(3)"
      ]
    },
    {
      "cell_type": "code",
      "execution_count": null,
      "metadata": {
        "collapsed": true,
        "id": "krIep8QfDuvE"
      },
      "outputs": [],
      "source": [
        "y0_tr_hat = model.predict(___)\n",
        "y0_tr_hat"
      ]
    },
    {
      "cell_type": "markdown",
      "metadata": {
        "id": "QeAQfhD0yM3a"
      },
      "source": [
        "- 실험군의 평균과 합성통제집단의 추정 평균 그래프 생성"
      ]
    },
    {
      "cell_type": "code",
      "execution_count": null,
      "metadata": {
        "id": "Vu-qfTAf_DL4"
      },
      "outputs": [],
      "source": [
        "plt.figure(figsize=(10,4))\n",
        "\n",
        "plt.plot(y_co.index, model.predict(___), label=\"Synthetic Control\", ls=\"-.\")\n",
        "plt.plot(y_tr.mean(axis=1), label=\"Treated Avg.\")\n",
        "plt.vlines(pd.to_datetime(\"2015-01-01\"), 0, 0.15, ls=\"dashed\", label=\"$t=T_{pre}+1$\")\n",
        "plt.xticks(rotation=45)\n",
        "plt.ylabel(\"ratio\")"
      ]
    },
    {
      "cell_type": "markdown",
      "metadata": {
        "id": "tZNudi6PyM3a"
      },
      "source": [
        "- 실험군의 평균과 합성통제집단의 추정 평균을 이용해 ATT 그래프 생성"
      ]
    },
    {
      "cell_type": "code",
      "execution_count": null,
      "metadata": {
        "id": "mYxq4u7m_LPR"
      },
      "outputs": [],
      "source": [
        "att = ____________\n",
        "\n",
        "plt.figure(figsize=(10,4))\n",
        "#ATT 그래프\n",
        "plt.plot(___ - model.predict(___), label=\"ATT\", ls=\"-.\")\n",
        "plt.vlines(pd.to_datetime(tr_period), att.min(), att.max(), ls=\"dashed\", label=\"$t=T_{pre}+1$\")\n",
        "plt.hlines(0, y_tr.index.min(), y_tr.index.max())\n",
        "plt.ylabel(\"ATT\")\n",
        "plt.xticks(rotation=45)\n",
        "plt.legend()"
      ]
    },
    {
      "cell_type": "markdown",
      "metadata": {
        "id": "E2D4tJmMC76b"
      },
      "source": [
        "**Q1. 위에 적은 ATT 식을, ATT의 의미를 고려해 설명해주세요.**"
      ]
    },
    {
      "cell_type": "markdown",
      "metadata": {
        "id": "xzOvvVPhyM3a"
      },
      "source": [
        "2 ) 처치 이전의 기간이 짧은 경우"
      ]
    },
    {
      "cell_type": "markdown",
      "metadata": {
        "id": "IKLVLCheyM3a"
      },
      "source": [
        "- 행렬 표현"
      ]
    },
    {
      "cell_type": "code",
      "execution_count": null,
      "metadata": {
        "id": "wt9OII7nyM3a"
      },
      "outputs": [],
      "source": [
        "#처치 이전 데이터가 2013-01-01부터 주어진다고 가정\n",
        "df_2 = df[df['date']>=pd.Timestamp(___)]\n",
        "\n",
        "y_pre_co_2, y_pre_tr_2, y_post_co_2, y_post_tr_2 = reshape_sc_data(\n",
        "    df_2,\n",
        "    geo_col=\"city\",\n",
        "    time_col=\"date\",\n",
        "    y_col=\"ratio\",\n",
        "    tr_geos=treated,\n",
        "    tr_start=str(tr_period)\n",
        ")\n",
        "\n",
        "y_co_2 = pd.concat(___)\n",
        "y_tr_2 = pd.concat(___)"
      ]
    },
    {
      "cell_type": "code",
      "execution_count": null,
      "metadata": {
        "id": "Mf2MPYccyM3a"
      },
      "outputs": [],
      "source": [
        "y_pre_tr_2.head()"
      ]
    },
    {
      "cell_type": "markdown",
      "metadata": {
        "id": "a2Nc8EBJyM3b"
      },
      "source": [
        "- 수평 회귀분석을 통한 합성통제집단 만들기"
      ]
    },
    {
      "cell_type": "code",
      "execution_count": null,
      "metadata": {
        "id": "i3OAQEjKyM3b"
      },
      "outputs": [],
      "source": [
        "from sklearn.linear_model import LinearRegression\n",
        "\n",
        "model_2 = LinearRegression(fit_intercept=False)\n",
        "model_2.fit(___, ___)\n",
        "\n",
        "# extract the weights\n",
        "weights_lr_2 = model_2.___\n",
        "weights_lr_2"
      ]
    },
    {
      "cell_type": "code",
      "execution_count": null,
      "metadata": {
        "id": "Q_biFo_SyM3b"
      },
      "outputs": [],
      "source": [
        "y0_tr_hat_2 = model_2.predict(___)\n",
        "y0_tr_hat_2"
      ]
    },
    {
      "cell_type": "code",
      "execution_count": null,
      "metadata": {
        "id": "fll4Xi5ayM3c"
      },
      "outputs": [],
      "source": [
        "plt.figure(figsize=(10,4))\n",
        "\n",
        "plt.plot(y_co_2.index, model_2.predict(___), label=\"Synthetic Control\", ls=\"-.\")\n",
        "plt.plot(y_tr_2.mean(axis=1), label=\"Treated Avg.\")\n",
        "plt.vlines(pd.to_datetime(\"2015-01-01\"), 0, 0.15, ls=\"dashed\", label=\"$t=T_{pre}+1$\")\n",
        "plt.xticks(rotation=45)\n",
        "plt.ylabel(\"ratio\")"
      ]
    },
    {
      "cell_type": "markdown",
      "metadata": {
        "id": "sFni2OmZyM3c"
      },
      "source": [
        "- 실험군의 평균과 합성통제집단의 평균을 이용해 ATT 그래프 생성"
      ]
    },
    {
      "cell_type": "code",
      "execution_count": null,
      "metadata": {
        "id": "SLguti41_5-Q"
      },
      "outputs": [],
      "source": [
        "att_2 = ____________\n",
        "\n",
        "plt.figure(figsize=(10,4))\n",
        "#ATT 그래프\n",
        "plt.plot(___ - model_2.predict(___), label=\"ATT\", ls=\"-.\")\n",
        "plt.vlines(pd.to_datetime(tr_period), att_2.min(), att_2.max(), ls=\"dashed\", label=\"$t=T_{pre}+1$\")\n",
        "plt.hlines(0, y_tr_2.index.min(), y_tr_2.index.max())\n",
        "plt.ylabel(\"ATT\")\n",
        "plt.xticks(rotation=45)\n",
        "plt.legend()\n"
      ]
    },
    {
      "cell_type": "markdown",
      "metadata": {
        "id": "IXq8Lfs3Ddue"
      },
      "source": [
        "**Q2. 처치 이전 데이터가 짧아졌을 때 ATT 추정에 있어 달라진 점이 있나요? 있다면 무엇이고, 없다면 이유가 무엇이라고 생각하나요?**"
      ]
    },
    {
      "cell_type": "markdown",
      "metadata": {
        "id": "gQWU6W9S4swl"
      },
      "source": [
        "### 4. 표준 통제집단합성법"
      ]
    },
    {
      "cell_type": "markdown",
      "metadata": {
        "id": "rjJvORb1yM3c"
      },
      "source": [
        "1 ) 처치 이전의 기간이 긴 경우"
      ]
    },
    {
      "cell_type": "code",
      "execution_count": null,
      "metadata": {
        "id": "TIxooDn5uV0z"
      },
      "outputs": [],
      "source": [
        "from sklearn.base import BaseEstimator, RegressorMixin\n",
        "from sklearn.utils.validation import (check_X_y, check_array,\n",
        "                                      check_is_fitted)\n",
        "import cvxpy as cp\n",
        "\n",
        "class SyntheticControl(BaseEstimator, RegressorMixin):\n",
        "\n",
        "    def __init__(self,):\n",
        "        pass\n",
        "\n",
        "    def fit(self, y_pre_co, y_pre_tr):\n",
        "\n",
        "        y_pre_co, y_pre_tr = check_X_y(y_pre_co, y_pre_tr)\n",
        "\n",
        "        w = cp.Variable(y_pre_co.shape[1])\n",
        "\n",
        "        objective = cp.Minimize(cp.sum_squares(y_pre_co@w - y_pre_tr))\n",
        "        constraints = [cp.sum(w) == 1, w >= 0]\n",
        "\n",
        "        problem = cp.Problem(objective, constraints)\n",
        "\n",
        "        self.loss_ = problem.solve(verbose=False)\n",
        "        self.w_ = w.value\n",
        "\n",
        "        self.is_fitted_ = True\n",
        "        return self\n",
        "\n",
        "\n",
        "    def predict(self, y_co):\n",
        "\n",
        "        check_is_fitted(self)\n",
        "        y_co = check_array(y_co)\n",
        "\n",
        "        return y_co @ self.w_"
      ]
    },
    {
      "cell_type": "code",
      "execution_count": null,
      "metadata": {
        "colab": {
          "base_uri": "https://localhost:8080/"
        },
        "id": "_njfbYPfB_qI",
        "outputId": "34995484-fa85-4617-e0ef-4133675c1603"
      },
      "outputs": [
        {
          "data": {
            "text/plain": [
              "array([ 0.018,  0.054,  0.   ,  0.059,  0.088,  0.116, -0.   , -0.   ,\n",
              "        0.067,  0.07 ,  0.104,  0.051,  0.002,  0.025,  0.034,  0.103,\n",
              "       -0.   ,  0.077, -0.   , -0.   ,  0.083,  0.049, -0.   ])"
            ]
          },
          "execution_count": 23,
          "metadata": {},
          "output_type": "execute_result"
        }
      ],
      "source": [
        "# 모델 적합하기\n",
        "model = SyntheticControl()\n",
        "model.fit(___, ___)\n",
        "\n",
        "# 가중치 추정하기\n",
        "model.___.round(3)"
      ]
    },
    {
      "cell_type": "code",
      "execution_count": null,
      "metadata": {
        "id": "F7ddghAADrb8"
      },
      "outputs": [],
      "source": [
        "fig, (ax1, ax2) = plt.subplots(2, 1, figsize=(15,8), sharex=True)\n",
        "\n",
        "ax1.plot(y_co.index, model.predict(___), label=\"Synthetic Control\")\n",
        "ax1.plot(y_tr.mean(axis=1), label=\"Treated\", ls=\"-.\")\n",
        "ax1.vlines(pd.to_datetime(tr_period), 0.04, 0.09, ls=\"dashed\", label=\"$T_0$\")\n",
        "ax1.legend()\n",
        "ax1.set_ylabel(\"ATT\")\n",
        "\n",
        "ax2.plot(y_co.index, ___ - model.predict(___), label=\"Effect\", ls=\"-.\")\n",
        "ax2.hlines(0, y_co.index.min(), y_co.index.max())\n",
        "ax2.vlines(pd.to_datetime(tr_period), -0.03, 0.02, label=\"$T_0$\")\n",
        "ax2.legend()\n",
        "ax2.set_ylabel(\"ratio\")\n",
        "\n",
        "plt.xticks(rotation=45);"
      ]
    },
    {
      "cell_type": "markdown",
      "metadata": {
        "id": "wDUD2BrfFkBX"
      },
      "source": [
        "**Q3. 본 데이터에서 수평 회귀 분석이 아닌 표준 통제집단합성법을 활용했을 때 어떠한 차이가 발생했나요? 본 데이터를 기준으로 표준 통제집단합성법 활용의 의의를 설명해주세요.**"
      ]
    },
    {
      "cell_type": "markdown",
      "metadata": {
        "id": "LBxMoqW9yM3d"
      },
      "source": [
        "2 ) 처치 이전의 기간이 짧은 경우"
      ]
    },
    {
      "cell_type": "code",
      "execution_count": null,
      "metadata": {
        "id": "x4sUX90_yM3d"
      },
      "outputs": [],
      "source": [
        "model2 = SyntheticControl()\n",
        "model2.fit(___, ___)\n",
        "\n",
        "# extrac the weights\n",
        "model2.___.round(3)"
      ]
    },
    {
      "cell_type": "code",
      "execution_count": null,
      "metadata": {
        "id": "hs8bt-nPyM3d"
      },
      "outputs": [],
      "source": [
        "fig, (ax1, ax2) = plt.subplots(2, 1, figsize=(15,8), sharex=True)\n",
        "\n",
        "ax1.plot(y_co_2.index, model2.predict(___), label=\"Synthetic Control\")\n",
        "ax1.plot(y_tr_2.mean(axis=1), label=\"Treated\", ls=\"-.\")\n",
        "ax1.vlines(pd.to_datetime(tr_period), 0.04, 0.09, ls=\"dashed\", label=\"$T_0$\")\n",
        "ax1.legend()\n",
        "ax1.set_ylabel(\"ATT\")\n",
        "\n",
        "ax2.plot(y_co_2.index, ___ - ___, label=\"Effect\", ls=\"-.\")\n",
        "ax2.hlines(0, y_co_2.index.min(), y_co_2.index.max())\n",
        "ax2.vlines(pd.to_datetime(tr_period), -0.03, 0.02, label=\"$T_0$\")\n",
        "ax2.legend()\n",
        "ax2.set_ylabel(\"ratio\")\n",
        "\n",
        "plt.xticks(rotation=45);"
      ]
    },
    {
      "cell_type": "markdown",
      "metadata": {
        "id": "668zOgG-dtz4"
      },
      "source": [
        "**Q4. 처치 이전 데이터가 짧아졌을 때 표준통제집단합성법을 활용한 ATT 추정에 있어 달라진 점이 있나요? 있다면 무엇이고, 없다면 이유가 무엇이라고 생각하나요?**"
      ]
    },
    {
      "cell_type": "markdown",
      "metadata": {
        "id": "Hp8hmPqM4wDY"
      },
      "source": [
        "### 5. 편향 제거"
      ]
    },
    {
      "cell_type": "markdown",
      "metadata": {
        "id": "lgvo2fF-yM3d"
      },
      "source": [
        "1 ) 처치 이전의 기간이 긴 경우"
      ]
    },
    {
      "cell_type": "code",
      "execution_count": null,
      "metadata": {
        "id": "tcBE4J87GOcb"
      },
      "outputs": [],
      "source": [
        "def debiased_sc_atts(y_pre_co, y_pre_tr, y_post_co, y_post_tr, K=3):\n",
        "\n",
        "    block_size = int(min(np.floor(len(y_pre_tr)/K), len(y_post_tr)))\n",
        "    blocks = np.split(y_pre_tr.index[-K*block_size:], K)\n",
        "\n",
        "    def fold_effect(hold_out):\n",
        "        model = SyntheticControl()\n",
        "        model.fit(\n",
        "            y_pre_co.drop(hold_out),\n",
        "            y_pre_tr.drop(hold_out)\n",
        "        )\n",
        "\n",
        "        bias_hat = np.mean(y_pre_tr.loc[hold_out]\n",
        "                           - model.predict(y_pre_co.loc[hold_out]))\n",
        "\n",
        "        y0_hat = model.predict(y_post_co)\n",
        "        return (y_post_tr - y0_hat) - bias_hat\n",
        "\n",
        "\n",
        "    return pd.DataFrame([fold_effect(block) for block in blocks]).T"
      ]
    },
    {
      "cell_type": "code",
      "execution_count": null,
      "metadata": {
        "id": "jI2PuT_5yM3d"
      },
      "outputs": [],
      "source": [
        "deb_atts = debiased_sc_atts(y_pre_co,\n",
        "                            y_pre_tr.mean(axis=1),\n",
        "                            y_post_co,\n",
        "                            y_post_tr.mean(axis=1),\n",
        "                            K=3)\n",
        "\n",
        "deb_atts.head()"
      ]
    },
    {
      "cell_type": "code",
      "execution_count": null,
      "metadata": {
        "id": "4hSMm6PsyM3e"
      },
      "outputs": [],
      "source": [
        "model_biased = SyntheticControl()\n",
        "model_biased.fit(___, ___)\n",
        "att = ____________\n",
        "att_biased = ____________\n",
        "\n",
        "plt.figure(figsize=(10,4))\n",
        "plt.plot(att, label=\"ATT Debiased\", ls=\"-.\")\n",
        "plt.plot(att_biased, label=\"ATT Biased\")\n",
        "plt.legend()\n",
        "plt.hlines(0, att.index.min(), att.index.max())\n",
        "plt.ylabel(\"ATT\")\n",
        "plt.xticks(rotation=45);"
      ]
    },
    {
      "cell_type": "markdown",
      "metadata": {
        "id": "LfQobnNDyM3e"
      },
      "source": [
        "2 ) 처치 이전의 기간이 짧은 경우"
      ]
    },
    {
      "cell_type": "code",
      "execution_count": null,
      "metadata": {
        "id": "lTBKpy8Oh5S1"
      },
      "outputs": [],
      "source": [
        "deb_atts_2 = debiased_sc_atts(y_pre_co_2,\n",
        "                            y_pre_tr_2.mean(axis=1),\n",
        "                            y_post_co_2,\n",
        "                            y_post_tr_2.mean(axis=1),\n",
        "                            K=3)\n",
        "\n",
        "deb_atts_2.head()"
      ]
    },
    {
      "cell_type": "code",
      "execution_count": null,
      "metadata": {
        "id": "3V0eS_3tilu1"
      },
      "outputs": [],
      "source": [
        "model_biased_2 = SyntheticControl()\n",
        "model_biased_2.fit(y_pre_co_2, y_pre_tr_2.mean(axis=1))\n",
        "\n",
        "att_biased_2 = y_post_tr_2.mean(axis=1) - model_biased_2.predict(y_post_co_2)\n",
        "\n",
        "att_2 = y_post_tr_2.mean(axis=1) - y0_tr_hat_2\n",
        "\n",
        "plt.figure(figsize=(10,4))\n",
        "plt.plot(att_2, label=\"ATT Debiased\", ls=\"-.\")\n",
        "plt.plot(att_biased_2, label=\"ATT Biased\")\n",
        "plt.legend()\n",
        "plt.hlines(0, att_2.index.min(), att_2.index.max())\n",
        "plt.ylabel(\"ATT\")\n",
        "plt.xticks(rotation=45);"
      ]
    },
    {
      "cell_type": "markdown",
      "metadata": {
        "id": "SUlujtw0re4_"
      },
      "source": [
        "**Q5. 전체 데이터와 부분 데이터에서 편향을 제거한 후의 ATT 추정값을 기존 추정값과 비교해봤습니다. 두 데이터에서 각각 편향 제거 전후 결과에 어떤 차이가 발생했나요? 해당 결과에 대한 이유를 자유롭게 적어주세요.**"
      ]
    },
    {
      "cell_type": "markdown",
      "metadata": {
        "id": "HZFGJGzI-uHu"
      },
      "source": [
        "### 6. 통제집단합성법과 이중차분법"
      ]
    },
    {
      "cell_type": "markdown",
      "metadata": {
        "id": "_oqF5J06yM3e"
      },
      "source": [
        "1 ) 처치 이전의 기간이 긴 경우"
      ]
    },
    {
      "cell_type": "markdown",
      "metadata": {
        "id": "oGNqysEbyM3e"
      },
      "source": [
        "- 통제 집단 합성법을 추정 후 ATT 계산"
      ]
    },
    {
      "cell_type": "code",
      "execution_count": null,
      "metadata": {
        "id": "UL_4zbDzjt-H"
      },
      "outputs": [],
      "source": [
        "sc_model = SyntheticControl()\n",
        "sc_model.fit(___, ___)\n",
        "\n",
        "att = _______________"
      ]
    },
    {
      "cell_type": "markdown",
      "metadata": {
        "id": "hFUpJ0KGyM3f"
      },
      "source": [
        "- 대조군 가중치 데이터프레임에 추가"
      ]
    },
    {
      "cell_type": "code",
      "execution_count": null,
      "metadata": {
        "id": "Lb4JMryMj2tN"
      },
      "outputs": [],
      "source": [
        "unit_w = pd.DataFrame(zip(y_pre_co.columns, sc_model.___),\n",
        "                         columns=[\"city\", \"unit_weight\"])\n",
        "\n",
        "unit_w.head()"
      ]
    },
    {
      "cell_type": "markdown",
      "metadata": {
        "id": "Z-BVLyEwyM3f"
      },
      "source": [
        "- 가중치 데이터 프레임을 원래 데이터프레임에 조인"
      ]
    },
    {
      "cell_type": "code",
      "execution_count": null,
      "metadata": {
        "id": "JVKuXnhbkPMl"
      },
      "outputs": [],
      "source": [
        "df_with_w = (df\n",
        "             .assign(tr_post = lambda d: d[\"post\"]*d[\"treated\"])\n",
        "             .merge(unit_w, on=[\"city\"], how=\"left\")\n",
        "             .fillna({\"unit_weight\": df[\"treated\"].mean()}))\n",
        "\n",
        "df_with_w.head()"
      ]
    },
    {
      "cell_type": "markdown",
      "metadata": {
        "id": "X_9w6ksdyM3f"
      },
      "source": [
        "- 가중 OLS 활용"
      ]
    },
    {
      "cell_type": "code",
      "execution_count": null,
      "metadata": {
        "id": "6IDlcap7kYeP"
      },
      "outputs": [],
      "source": [
        "mod = smf.wls(\n",
        "    \"_________\",\n",
        "    data=df_with_w.query(\"____________\"),\n",
        "    weights=df_with_w.query(\"_________\")[\"unit_weight\"]\n",
        ")\n",
        "\n",
        "mod.fit()._________"
      ]
    },
    {
      "cell_type": "markdown",
      "metadata": {
        "id": "mAO28hWQgosj"
      },
      "source": [
        "**Q6. 시간 가중치 중 일부만 골라 사용하는 이유가 무엇일까요? 자유롭게 적어주세요.**"
      ]
    },
    {
      "cell_type": "markdown",
      "metadata": {
        "id": "XVAnBYy5yM3f"
      },
      "source": [
        "- 시간가중치 추정"
      ]
    },
    {
      "cell_type": "code",
      "execution_count": null,
      "metadata": {
        "id": "l_rXB4NnyM3f"
      },
      "outputs": [],
      "source": [
        "from sklearn.base import BaseEstimator, RegressorMixin\n",
        "from sklearn.utils.validation import check_X_y, check_array, check_is_fitted\n",
        "import cvxpy as cp\n",
        "\n",
        "class SyntheticControl(BaseEstimator, RegressorMixin):\n",
        "\n",
        "    def __init__(self, fit_intercept=False):\n",
        "        self.fit_intercept = fit_intercept\n",
        "\n",
        "    def fit(self, y_pre_co, y_pre_tr):\n",
        "\n",
        "        y_pre_co, y_pre_tr = check_X_y(y_pre_co, y_pre_tr)\n",
        "\n",
        "        # add intercept\n",
        "        intercept = np.ones((y_pre_co.shape[0], 1))*self.fit_intercept\n",
        "        X = np.concatenate([intercept, y_pre_co], axis=1)\n",
        "        w = cp.Variable(X.shape[1])\n",
        "\n",
        "        objective = cp.Minimize(cp.sum_squares(X@w - y_pre_tr))\n",
        "        constraints = [cp.sum(w[1:]) == 1, w[1:] >= 0]\n",
        "\n",
        "        problem = cp.Problem(objective, constraints)\n",
        "\n",
        "        self.loss_ = problem.solve(verbose=False)\n",
        "        self.w_ = w.value[1:] # remove intercept\n",
        "\n",
        "        self.is_fitted_ = True\n",
        "        return self\n",
        "\n",
        "\n",
        "    def predict(self, y_co):\n",
        "\n",
        "        check_is_fitted(self)\n",
        "        y_co = check_array(y_co)\n",
        "\n",
        "        return y_co @ self.w_"
      ]
    },
    {
      "cell_type": "code",
      "execution_count": null,
      "metadata": {
        "id": "2Sp0-cU4kgCT"
      },
      "outputs": [],
      "source": [
        "time_sc = SyntheticControl(fit_intercept=True)\n",
        "\n",
        "time_sc.fit(___, ___)\n",
        "\n",
        "time_w = pd.DataFrame(zip(y_pre_co.index, time_sc.___),\n",
        "                         columns=[\"date\", \"time_weight\"])\n",
        "\n",
        "time_w.tail()"
      ]
    },
    {
      "cell_type": "code",
      "execution_count": null,
      "metadata": {
        "id": "PJ6LizmXkhXU"
      },
      "outputs": [],
      "source": [
        "plt.figure(figsize=(10,4))\n",
        "plt.bar(time_w[\"date\"], time_w[\"time_weight\"])\n",
        "plt.ylabel(\"Time Weights\")\n",
        "plt.xticks(rotation=45);"
      ]
    },
    {
      "cell_type": "markdown",
      "metadata": {
        "id": "vLcN0AjIyM3g"
      },
      "source": [
        "- 합성 이중차분법을 이용해 ATT 추정값 구하기"
      ]
    },
    {
      "cell_type": "code",
      "execution_count": null,
      "metadata": {
        "id": "Fy40AMstkngU"
      },
      "outputs": [],
      "source": [
        "scdid_df = (\n",
        "    df_with_w\n",
        "    .merge(time_w, on=[\"date\"], how=\"left\")\n",
        "    .fillna({\"time_weight\":df[\"post\"].mean()})\n",
        "    .assign(weight = lambda d: (d[\"time_weight\"]*d[\"unit_weight\"]))\n",
        ")"
      ]
    },
    {
      "cell_type": "code",
      "execution_count": null,
      "metadata": {
        "id": "9uJcHbg2krn9"
      },
      "outputs": [],
      "source": [
        "did_model = smf.wls(\n",
        "    \"_________\",\n",
        "    data=scdid_df.query(\"______\"),\n",
        "    weights=scdid_df.query(\"______\")[\"weight\"]).fit()\n",
        "\n",
        "did_model.params[\"treated:post\"]"
      ]
    },
    {
      "cell_type": "code",
      "execution_count": null,
      "metadata": {
        "id": "lbYqWVm8kv2X"
      },
      "outputs": [],
      "source": [
        "avg_pre_period = time_w.iloc[int((time_w[\"time_weight\"] * np.arange(0, len(time_w), 1)).sum().round())][\"date\"]\n",
        "avg_post_period = pd.Timestamp(\"2022-06-01\")\n",
        "\n",
        "fig, (ax1, ax2) = plt.subplots(2, 1, figsize=(15,8), sharex=True, gridspec_kw={'height_ratios': [3, 1]})\n",
        "\n",
        "# 실험집단의 평균 영아사망률 그래프 그리기\n",
        "ax1.plot(y_co.index, ___, label=\"Treated\")\n",
        "# 합성이중차분법 통한 추정값 그래프 그리기\n",
        "ax1.plot(y_co.index, sc_model.predict(___), label=\"Synthetic Control\", ls=\"-.\")\n",
        "ax1.vlines(tr_period, y_tr.mean(axis=1).min(), y_tr.mean(axis=1).max(), color=\"black\", ls=\"dotted\")\n",
        "\n",
        "pre_sc = ______\n",
        "post_sc = ______\n",
        "pre_treat = ______\n",
        "post_treat = ______\n",
        "\n",
        "sc_did_y0 = ______\n",
        "\n",
        "ax1.plot([avg_pre_period, avg_post_period], [pre_treat, post_treat], color=\"C2\", ls=\"dashed\")\n",
        "ax1.plot([avg_pre_period, avg_post_period], [pre_treat, sc_did_y0], color=\"C2\")\n",
        "ax1.legend()\n",
        "ax1.set_title(\"Synthetic Diff-in-Diff\")\n",
        "ax1.set_ylabel(\"app_download_pct\")\n",
        "\n",
        "ax2.bar(time_w[\"date\"], time_w[\"time_weight\"])\n",
        "ax2.vlines(tr_period, 0, 0.15, color=\"black\", ls=\"dotted\")\n",
        "ax2.set_ylabel(\"Time Weights\")\n",
        "ax2.set_xlabel(\"Dates\")\n",
        "plt.xticks(rotation=30);"
      ]
    },
    {
      "cell_type": "markdown",
      "metadata": {
        "id": "tjnNlx3hyM3g"
      },
      "source": [
        "- 표준 통제집단합성법 vs. 합성 이중차분법"
      ]
    },
    {
      "cell_type": "code",
      "execution_count": null,
      "metadata": {
        "id": "U29utULCs-xO"
      },
      "outputs": [],
      "source": [
        "#att_unbiased = ______ (remind ^^)\n",
        "att = ________________________\n",
        "att_synthetic = ________________________\n",
        "\n",
        "plt.figure(figsize=(10,4))\n",
        "plt.plot(att, label=\"ATT standard\", ls=\"-.\")\n",
        "plt.plot(att_synthetic, label=\"ATT synthetic\")\n",
        "plt.legend()\n",
        "plt.hlines(0, att.index.min(), att.index.max())\n",
        "plt.ylabel(\"ATT\")\n",
        "plt.xticks(rotation=45);"
      ]
    },
    {
      "cell_type": "markdown",
      "metadata": {
        "id": "sPNhAeeR49hN"
      },
      "source": [
        "**Q7. 합성 이중 차분법을 활용하여 ATT 추정값을 구했을 때와 표준 통제집단합성법으로 구한 ATT 추정값에는 어떤 차이가 있나요?**"
      ]
    },
    {
      "cell_type": "markdown",
      "metadata": {
        "id": "JmEhyxX9yM3h"
      },
      "source": [
        "2 ) 처치 이전의 기간이 짧은 경우"
      ]
    },
    {
      "cell_type": "markdown",
      "metadata": {
        "id": "yKKQp300yM3h"
      },
      "source": [
        "- 통제 집단 합성법을 추정 후 ATT 계산"
      ]
    },
    {
      "cell_type": "code",
      "execution_count": null,
      "metadata": {
        "id": "Y8F5AgY-yM3h"
      },
      "outputs": [],
      "source": [
        "sc_model_2 = SyntheticControl()\n",
        "sc_model_2.fit(______, ______)\n",
        "att = ________________________"
      ]
    },
    {
      "cell_type": "markdown",
      "metadata": {
        "id": "pJ4KxpkkyM3h"
      },
      "source": [
        "- 대조군 가중치 데이터프레임에 추가"
      ]
    },
    {
      "cell_type": "code",
      "execution_count": null,
      "metadata": {
        "id": "Vs2IWUgtyM3h"
      },
      "outputs": [],
      "source": [
        "unit_w_2 = pd.DataFrame(zip(y_pre_co_2.columns, sc_model_2.___),\n",
        "                         columns=[\"city\", \"unit_weight\"])\n",
        "unit_w_2.head()"
      ]
    },
    {
      "cell_type": "markdown",
      "metadata": {
        "id": "Iv2acQnPyM3h"
      },
      "source": [
        "- 가중치 데이터 프레임을 원래 데이터프레임에 조인"
      ]
    },
    {
      "cell_type": "code",
      "execution_count": null,
      "metadata": {
        "id": "k2_RTSDjyM3h"
      },
      "outputs": [],
      "source": [
        "df_with_w_2 = (df_2\n",
        "             .assign(tr_post = lambda d: d[\"post\"]*d[\"treated\"])\n",
        "             .merge(unit_w_2, on=[\"city\"], how=\"left\")\n",
        "             .fillna({\"unit_weight\": df_2[\"treated\"].mean()}))\n",
        "df_with_w_2.head()"
      ]
    },
    {
      "cell_type": "markdown",
      "metadata": {
        "id": "3zh6bA1PyM3h"
      },
      "source": [
        "- 가중 OLS 활용"
      ]
    },
    {
      "cell_type": "code",
      "execution_count": null,
      "metadata": {
        "id": "YPPKlQ5ZyM3h"
      },
      "outputs": [],
      "source": [
        "mod_2 = smf.wls(\n",
        "    \"_________\",\n",
        "    data=df_with_w_2.query(\"______\"),\n",
        "    weights=df_with_w_2.query(\"______\")[\"unit_weight\"]\n",
        ")\n",
        "mod_2.fit()._________"
      ]
    },
    {
      "cell_type": "markdown",
      "metadata": {
        "id": "DtyDX72-yM3i"
      },
      "source": [
        "- 시간 가중치 추정"
      ]
    },
    {
      "cell_type": "code",
      "execution_count": null,
      "metadata": {
        "id": "VDT-gLJNyM3i"
      },
      "outputs": [],
      "source": [
        "time_sc_2 = SyntheticControl(fit_intercept=True)\n",
        "\n",
        "time_sc_2.fit(___, ___)\n",
        "\n",
        "time_w_2 = pd.DataFrame(zip(y_pre_co_2.index, time_sc_2.w_),\n",
        "                         columns=[\"date\", \"time_weight\"])\n",
        "time_w_2.tail()"
      ]
    },
    {
      "cell_type": "markdown",
      "metadata": {
        "id": "OF_nWVc7yM3i"
      },
      "source": [
        "- 합성 이중차분법을 이용해 ATT 추정값 구하기"
      ]
    },
    {
      "cell_type": "code",
      "execution_count": null,
      "metadata": {
        "id": "CA4RCnEKyM3i"
      },
      "outputs": [],
      "source": [
        "scdid_df_2 = (\n",
        "    df_with_w_2\n",
        "    .merge(time_w_2, on=[\"date\"], how=\"left\")\n",
        "    .fillna({\"time_weight\":df_2[\"post\"].mean()})\n",
        "    .assign(weight = lambda d: (d[\"time_weight\"]*d[\"unit_weight\"]))\n",
        ")"
      ]
    },
    {
      "cell_type": "code",
      "execution_count": null,
      "metadata": {
        "id": "iEyNoJ3VyM3i"
      },
      "outputs": [],
      "source": [
        "did_model_2 = smf.wls(\n",
        "    \"_________\",\n",
        "    data=scdid_df_2.query(\"______\"),\n",
        "    weights=scdid_df_2.query(\"______\")[\"weight\"]).fit()\n",
        "did_model_2._________"
      ]
    },
    {
      "cell_type": "code",
      "execution_count": null,
      "metadata": {
        "id": "WS-wXn43lFGJ"
      },
      "outputs": [],
      "source": [
        "avg_pre_period = time_w_2.iloc[int((time_w_2[\"time_weight\"] * np.arange(0, len(time_w_2), 1)).sum().round())][\"date\"]\n",
        "avg_post_period = pd.Timestamp(\"2022-06-01\")\n",
        "\n",
        "fig, (ax1, ax2) = plt.subplots(2, 1, figsize=(15,8), sharex=True, gridspec_kw={'height_ratios': [3, 1]})\n",
        "\n",
        "# 실험집단의 평균 영아사망률 그래프 그리기\n",
        "ax1.plot(y_co_2.index, ___, label=\"Treated\")\n",
        "# 합성이중차분법 통한 추정 ATT 그래프 그리기\n",
        "ax1.plot(y_co_2.index, sc_model_2.predict(___), label=\"Synthetic Control\", ls=\"-.\")\n",
        "ax1.vlines(tr_period, y_tr_2.mean(axis=1).min(), y_tr_2.mean(axis=1).max(), color=\"black\", ls=\"dotted\")\n",
        "\n",
        "pre_sc = ______\n",
        "post_sc = ______\n",
        "pre_treat = ______\n",
        "post_treat = ______\n",
        "\n",
        "sc_did_y0 = ______\n",
        "\n",
        "ax1.plot([avg_pre_period, avg_post_period], [pre_treat, post_treat], color=\"C2\", ls=\"dashed\")\n",
        "ax1.plot([avg_pre_period, avg_post_period], [pre_treat, sc_did_y0], color=\"C2\")\n",
        "ax1.legend()\n",
        "ax1.set_title(\"Synthetic Diff-in-Diff\")\n",
        "ax1.set_ylabel(\"app_download_pct\")\n",
        "\n",
        "ax2.bar(time_w_2[\"date\"], time_w_2[\"time_weight\"])\n",
        "ax2.vlines(tr_period, 0, 0.15, color=\"black\", ls=\"dotted\")\n",
        "ax2.set_ylabel(\"Time Weights\")\n",
        "ax2.set_xlabel(\"Dates\")\n",
        "plt.xticks(rotation=30);"
      ]
    },
    {
      "cell_type": "markdown",
      "metadata": {
        "id": "_zftuDXnyM3i"
      },
      "source": [
        "- 표준 통제집단합성법 vs. 합성 이중차분법"
      ]
    },
    {
      "cell_type": "code",
      "execution_count": null,
      "metadata": {
        "id": "5sxZmU3AuA5r"
      },
      "outputs": [],
      "source": [
        "#att_unbiased = ______ (remind ^^)\n",
        "att_2 = ________________________\n",
        "att_synthetic_2 = ________________________\n",
        "\n",
        "plt.figure(figsize=(10,4))\n",
        "plt.plot(att_2, label=\"ATT standard\", ls=\"-.\")\n",
        "plt.plot(att_synthetic_2, label=\"ATT synthetic\")\n",
        "plt.legend()\n",
        "plt.hlines(0, att_2.index.min(), att_2.index.max())\n",
        "plt.ylabel(\"ATT\")\n",
        "plt.xticks(rotation=45);"
      ]
    },
    {
      "cell_type": "markdown",
      "metadata": {
        "id": "SB5MDrwc5kKH"
      },
      "source": [
        "**Q8. 전체 데이터와 부분 데이터에서 합성 이중차분법의 ATT 추정값을 각각 구했습니다. 두 데이터에서 합성 이중차분법의 사용은 각각 효과적이라고 생각하나요? 판단에 대한 이유를 자유롭게 적어주세요.**"
      ]
    }
  ],
  "metadata": {
    "colab": {
      "collapsed_sections": [
        "A8j3xpUxcpQG",
        "JZWR6wGLcv6D",
        "4pKLLImlyM3X",
        "gQWU6W9S4swl",
        "Hp8hmPqM4wDY"
      ],
      "provenance": []
    },
    "kernelspec": {
      "display_name": "Python 3",
      "name": "python3"
    },
    "language_info": {
      "codemirror_mode": {
        "name": "ipython",
        "version": 3
      },
      "file_extension": ".py",
      "mimetype": "text/x-python",
      "name": "python",
      "nbconvert_exporter": "python",
      "pygments_lexer": "ipython3",
      "version": "3.11.9"
    }
  },
  "nbformat": 4,
  "nbformat_minor": 0
}
