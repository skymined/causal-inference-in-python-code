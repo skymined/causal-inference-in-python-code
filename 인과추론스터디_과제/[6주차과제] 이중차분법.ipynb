{
 "cells": [
  {
   "cell_type": "markdown",
   "id": "bef5a5e1",
   "metadata": {},
   "source": [
    "## [6주차 과제] 메타 러너\n",
    "\n",
    "패널데이터를 이해, 활용하는 방법을 이해하기 위한 과제입니다.\n",
    "\n",
    "---\n",
    "**과제 가이드**\n",
    "\n",
    "- date : 날짜\n",
    "- city : 도시\n",
    "- region : 지역\n",
    "- treated : 광고 (처치변수)\n",
    "- engagement : 참여도 (결과변수)\n",
    "- 광고를 접한 후의 참여도를 확인하는 가상의 마케팅 사례 데이터입니다.\n",
    "- 빈칸이 없는 부분은 확인용이니 확인 후 넘어가주세요.\n",
    "---\n",
    "\n",
    "\n",
    "\n",
    "과제 제출 기한: 2024년 7월 4일(목) 11:00<br>\n",
    "제출 방법: `#24s-causal-inference` Slack 채널에 작성한 Notion 링크 공유<br>\n",
    "\n",
    "*출제자: 정성윤, 유찬영<br>\n",
    "최종 수정일: 2024년 6월 30일(일)*"
   ]
  },
  {
   "cell_type": "markdown",
   "id": "4dc1bf63",
   "metadata": {},
   "source": [
    "# 8장 - 이중차분법\n",
    "\n",
    "\n",
    "## 8.1 패널데이터\n"
   ]
  },
  {
   "cell_type": "markdown",
   "id": "f7242383",
   "metadata": {},
   "source": [
    "##### 라이브러리 및 함수 정의"
   ]
  },
  {
   "cell_type": "code",
   "execution_count": null,
   "id": "a6d9bc21",
   "metadata": {
    "ExecuteTime": {
     "end_time": "2024-01-20T14:39:09.552555Z",
     "start_time": "2024-01-20T14:39:06.893550Z"
    },
    "tags": [
     "hide-input"
    ]
   },
   "outputs": [],
   "source": [
    "from toolz import *\n",
    "\n",
    "import pandas as pd\n",
    "import numpy as np\n",
    "\n",
    "import statsmodels.formula.api as smf\n",
    "\n",
    "import seaborn as sns\n",
    "from matplotlib import pyplot as plt\n",
    "import matplotlib\n",
    "\n",
    "from cycler import cycler\n",
    "\n",
    "color=['0.0', '0.4', '0.8']\n",
    "default_cycler = (cycler(color=color))\n",
    "linestyle=['-', '--', ':', '-.']\n",
    "marker=['o', 'v', 'd', 'p']\n",
    "\n",
    "plt.rc('axes', prop_cycle=default_cycler)"
   ]
  },
  {
   "cell_type": "markdown",
   "id": "cce3670c",
   "metadata": {},
   "source": [
    "##### 데이터"
   ]
  },
  {
   "cell_type": "code",
   "execution_count": null,
   "id": "d17c7963",
   "metadata": {
    "ExecuteTime": {
     "end_time": "2024-01-20T14:39:09.589128Z",
     "start_time": "2024-01-20T14:39:09.554340Z"
    }
   },
   "outputs": [],
   "source": [
    "import pandas as pd\n",
    "import numpy as np\n",
    "\n",
    "mkt_data = (pd.read_csv(\"./data/Processed_New_Dataset_1.csv\")\n",
    "            .astype({\"date\":\"datetime64[ns]\"}))\n",
    "\n",
    "mkt_data.head()"
   ]
  },
  {
   "cell_type": "code",
   "execution_count": null,
   "id": "3d6cdba1",
   "metadata": {
    "ExecuteTime": {
     "end_time": "2024-01-20T14:39:09.608185Z",
     "start_time": "2024-01-20T14:39:09.594150Z"
    }
   },
   "outputs": [],
   "source": [
    "(mkt_data\n",
    " .assign(w = lambda d: d[\"treated\"]*d[\"post\"])\n",
    " .groupby([\"w\"])\n",
    " .agg({\"date\":[min, max]}))"
   ]
  },
  {
   "cell_type": "markdown",
   "id": "43105f6e",
   "metadata": {},
   "source": [
    "## 8.2 표준 이중차분법\n"
   ]
  },
  {
   "cell_type": "code",
   "execution_count": null,
   "id": "355d9c2c",
   "metadata": {
    "ExecuteTime": {
     "end_time": "2024-01-20T14:39:09.622154Z",
     "start_time": "2024-01-20T14:39:09.611867Z"
    }
   },
   "outputs": [],
   "source": [
    "did_data = (mkt_data\n",
    "            .groupby([\"treated\", \"post\"])\n",
    "            .agg({\"engagement\":\"mean\", \"date\": \"min\"}))           # 실험군과 대조군으로 나눈 후 평균 계산\n",
    "\n",
    "did_data"
   ]
  },
  {
   "cell_type": "markdown",
   "id": "92e58a9a",
   "metadata": {},
   "source": [
    "반사실 추정값을 구한 후 ATT를 계산해주세요"
   ]
  },
  {
   "cell_type": "code",
   "execution_count": null,
   "id": "79bcb7fe",
   "metadata": {
    "ExecuteTime": {
     "end_time": "2024-01-20T14:39:09.632122Z",
     "start_time": "2024-01-20T14:39:09.624048Z"
    }
   },
   "outputs": [],
   "source": [
    "y0_est = _____\n",
    "\n"
   ]
  },
  {
   "cell_type": "code",
   "execution_count": null,
   "id": "0d4bafeb",
   "metadata": {},
   "outputs": [],
   "source": [
    "att = ____\n",
    "att"
   ]
  },
  {
   "cell_type": "code",
   "execution_count": null,
   "id": "b51d6822",
   "metadata": {
    "ExecuteTime": {
     "end_time": "2024-01-20T14:39:09.640871Z",
     "start_time": "2024-01-20T14:39:09.633597Z"
    }
   },
   "outputs": [],
   "source": [
    "mkt_data.query(\"post==1\").query(\"treated==1\")[\"tau\"].mean()"
   ]
  },
  {
   "cell_type": "markdown",
   "id": "e911d8b1",
   "metadata": {},
   "source": [
    "### 8.2.1 이중차분법과 결과 변화\n"
   ]
  },
  {
   "cell_type": "code",
   "execution_count": null,
   "id": "10e16d8d",
   "metadata": {
    "ExecuteTime": {
     "end_time": "2024-01-20T14:39:09.656244Z",
     "start_time": "2024-01-20T14:39:09.642523Z"
    }
   },
   "outputs": [],
   "source": [
    "pre = mkt_data.query(\"post==0\").groupby(\"city\")[\"engagement\"].mean()\n",
    "post = mkt_data.query(\"post==1\").groupby(\"city\")[\"engagement\"].mean()\n",
    "\n",
    "delta_y = ((post - pre)\n",
    "           .rename(\"delta_y\")\n",
    "           .to_frame()\n",
    "           # add the treatment dummy\n",
    "           .join(mkt_data.groupby(\"city\")[\"treated\"].max()))\n",
    "\n",
    "delta_y.tail()"
   ]
  },
  {
   "cell_type": "code",
   "execution_count": null,
   "id": "31be6542",
   "metadata": {
    "ExecuteTime": {
     "end_time": "2024-01-20T14:39:09.665299Z",
     "start_time": "2024-01-20T14:39:09.659783Z"
    }
   },
   "outputs": [],
   "source": [
    "(delta_y.query(\"treated==1\")[\"delta_y\"].mean() \n",
    " - delta_y.query(\"treated==0\")[\"delta_y\"].mean())"
   ]
  },
  {
   "cell_type": "code",
   "execution_count": null,
   "id": "ff0261df",
   "metadata": {
    "ExecuteTime": {
     "end_time": "2024-01-20T14:39:09.877683Z",
     "start_time": "2024-01-20T14:39:09.666729Z"
    },
    "tags": [
     "hide-input"
    ]
   },
   "outputs": [],
   "source": [
    "did_plt = did_data.reset_index()\n",
    "\n",
    "\n",
    "plt.figure(figsize=(10,4))\n",
    "\n",
    "sns.scatterplot(data=did_plt.query(\"treated==0\"), x=\"date\", y=\"engagement\", s=100, color=\"C0\", marker=\"s\")\n",
    "sns.lineplot(data=did_plt.query(\"treated==0\"), x=\"date\", y=\"engagement\", label=\"Control\", color=\"C0\")\n",
    "\n",
    "sns.scatterplot(data=did_plt.query(\"treated==1\"), x=\"date\", y=\"engagement\", s=100, color=\"C1\", marker=\"x\")\n",
    "sns.lineplot(data=did_plt.query(\"treated==1\"), x=\"date\", y=\"engagement\", label=\"Treated\", color=\"C1\",)\n",
    "\n",
    "plt.plot(did_data.loc[1, \"date\"], [did_data.loc[1, \"engagement\"][0], y0_est], color=\"C2\", linestyle=\"dashed\", label=\"Y(0)|D=1\")\n",
    "plt.scatter(did_data.loc[1, \"date\"], [did_data.loc[1, \"engagement\"][0], y0_est], color=\"C2\", s=50)\n",
    "\n",
    "plt.xticks(rotation = 45)\n",
    "plt.legend()\n"
   ]
  },
  {
   "cell_type": "markdown",
   "id": "796aae1b",
   "metadata": {},
   "source": [
    "# 질문 1\n",
    "- 해당 그래프에서 ATT를 나타내는 포인트를 찾아주세요\n",
    "- `Y(0)|D=1`는 어떻게 계산된 값인가요?"
   ]
  },
  {
   "cell_type": "markdown",
   "id": "7d388983",
   "metadata": {},
   "source": [
    "### 8.2.2 이중차분법과 OLS\n"
   ]
  },
  {
   "cell_type": "markdown",
   "id": "af7bb5c6",
   "metadata": {},
   "source": [
    "포화회귀모델을 사용하여 DID 추정량을 구해주세요"
   ]
  },
  {
   "cell_type": "code",
   "execution_count": null,
   "id": "bead249f",
   "metadata": {
    "ExecuteTime": {
     "end_time": "2024-01-20T14:39:09.887639Z",
     "start_time": "2024-01-20T14:39:09.879115Z"
    },
    "scrolled": true
   },
   "outputs": [],
   "source": [
    "did_data = (mkt_data\n",
    "            .groupby([\"city\", \"post\"])\n",
    "            .agg({\"engagement\":\"mean\", \"date\": \"min\", \"treated\": \"max\"})\n",
    "            .reset_index())\n",
    "\n",
    "did_data.head()"
   ]
  },
  {
   "cell_type": "code",
   "execution_count": null,
   "id": "54757217",
   "metadata": {
    "ExecuteTime": {
     "end_time": "2024-01-20T14:39:09.896935Z",
     "start_time": "2024-01-20T14:39:09.889021Z"
    }
   },
   "outputs": [],
   "source": [
    "import statsmodels.formula.api as smf\n",
    "\n",
    "smf.ols(\n",
    "    '____', data=did_data\n",
    ").fit().params[\"____\"]"
   ]
  },
  {
   "cell_type": "markdown",
   "id": "6b379c13",
   "metadata": {},
   "source": [
    "### 8.2.3 이중차분법과 고정효과\n"
   ]
  },
  {
   "cell_type": "markdown",
   "id": "4dc0648a",
   "metadata": {},
   "source": [
    "더미변수를 사용하여 추정해주세요"
   ]
  },
  {
   "cell_type": "code",
   "execution_count": null,
   "id": "bd379d42",
   "metadata": {
    "ExecuteTime": {
     "end_time": "2024-01-20T14:39:09.913703Z",
     "start_time": "2024-01-20T14:39:09.898238Z"
    }
   },
   "outputs": [],
   "source": [
    "m = smf.ols('engagement ~ ____',\n",
    "            data=did_data).fit()\n",
    "\n",
    "m.params[\"treated:post\"]"
   ]
  },
  {
   "cell_type": "markdown",
   "id": "f8a849b1",
   "metadata": {},
   "source": [
    "# 질문 2\n",
    "\n",
    "- `*`연산자에 대하여 자유롭게 서술해주세요"
   ]
  },
  {
   "cell_type": "markdown",
   "id": "48ef6933",
   "metadata": {},
   "source": [
    "### 8.2.4 이중차분법과 블록 디자인\n"
   ]
  },
  {
   "cell_type": "code",
   "execution_count": null,
   "id": "d1eed2c4",
   "metadata": {
    "ExecuteTime": {
     "end_time": "2024-01-20T14:39:11.143922Z",
     "start_time": "2024-01-20T14:39:09.915271Z"
    },
    "tags": [
     "hide-input"
    ]
   },
   "outputs": [],
   "source": [
    "import matplotlib.ticker as plticker\n",
    "\n",
    "\n",
    "fig, (ax1, ax2) = plt.subplots(2,1, figsize=(9, 12), sharex=True)\n",
    "\n",
    "heat_plt = (mkt_data\n",
    "            .assign(treated=lambda d: d.groupby(\"city\")[\"treated\"].transform(max))\n",
    "            .astype({\"date\":\"str\"})\n",
    "            .assign(treated=mkt_data[\"treated\"] * mkt_data[\"post\"])\n",
    "            .pivot(index=\"city\", columns=\"date\", values=\"treated\")  # 여기서 수정\n",
    "            .reset_index()\n",
    "            .sort_values(by=max(mkt_data[\"date\"].astype(str)), ascending=False)  # 정렬 부분도 수정 필요\n",
    "            .reset_index()\n",
    "            .drop(columns=[\"city\"])\n",
    "            .rename(columns={\"index\": \"city\"})\n",
    "            .set_index(\"city\"))\n",
    "\n",
    "\n",
    "\n",
    "sns.heatmap(heat_plt, cmap=\"gray\", linewidths=0.01, linecolor=\"0.5\", ax=ax1, cbar=False)\n",
    "\n",
    "ax1.set_title(\"Treatment Assignment\")\n",
    "\n",
    "\n",
    "sns.lineplot(data=mkt_data.astype({\"date\":\"str\"}),\n",
    "             x=\"date\", y=\"engagement\", hue=\"treated\", ax=ax2)\n",
    "\n",
    "loc = plticker.MultipleLocator(base=2.0)\n",
    "# ax2.xaxis.set_major_locator(loc)\n",
    "ax2.vlines(\"2021-05-15\", mkt_data[\"engagement\"].min(), mkt_data[\"engagement\"].max(), color=\"black\", ls=\"dashed\", label=\"Interv.\")\n",
    "ax2.set_title(\"Outcome Over Time\")\n",
    "\n",
    "plt.xticks(rotation = 50)"
   ]
  },
  {
   "cell_type": "code",
   "execution_count": null,
   "id": "647b569a",
   "metadata": {
    "ExecuteTime": {
     "end_time": "2024-01-20T14:39:11.154791Z",
     "start_time": "2024-01-20T14:39:11.145888Z"
    }
   },
   "outputs": [],
   "source": [
    "m = smf.ols('engagement ~ treated*post', data=mkt_data).fit()\n",
    "\n",
    "m.params[\"treated:post\"]"
   ]
  },
  {
   "cell_type": "code",
   "execution_count": null,
   "id": "a60e4fdc",
   "metadata": {
    "ExecuteTime": {
     "end_time": "2024-01-20T14:39:11.208103Z",
     "start_time": "2024-01-20T14:39:11.156607Z"
    }
   },
   "outputs": [],
   "source": [
    "m = smf.ols('engagement ~ treated:post + C(city) + C(date)',\n",
    "            data=mkt_data).fit()\n",
    "\n",
    "m.params[\"treated:post\"]"
   ]
  },
  {
   "cell_type": "markdown",
   "id": "55619cf5",
   "metadata": {},
   "source": [
    "### 8.2.5 추론\n"
   ]
  },
  {
   "cell_type": "markdown",
   "id": "d32acb04",
   "metadata": {},
   "source": [
    "군집화 후 신뢰구간을 확인하고 기존 표준오차, 다른 데이터의 군집표준오차와 비교해주세요"
   ]
  },
  {
   "cell_type": "code",
   "execution_count": null,
   "id": "7d2cd163",
   "metadata": {
    "ExecuteTime": {
     "end_time": "2024-01-20T14:39:11.263156Z",
     "start_time": "2024-01-20T14:39:11.209780Z"
    }
   },
   "outputs": [],
   "source": [
    "m = smf.ols(\n",
    "    'engagement ~ ___', data=mkt_data\n",
    ").fit(cov_type='cluster', cov_kwds={'groups': mkt_data['city']})\n",
    "\n",
    "print(\"ATT:\", m.params[\"treated:post\"])\n",
    "m.conf_int().loc[\"treated:post\"]"
   ]
  },
  {
   "cell_type": "code",
   "execution_count": null,
   "id": "e0d03f38",
   "metadata": {
    "ExecuteTime": {
     "end_time": "2024-01-20T14:39:11.313615Z",
     "start_time": "2024-01-20T14:39:11.265201Z"
    }
   },
   "outputs": [],
   "source": [
    "m = smf.ols('engagement ~ ___',\n",
    "            data=mkt_data).fit()\n",
    "\n",
    "print(\"ATT:\", m.params[\"treated:post\"])\n",
    "m.conf_int().loc[\"treated:post\"]"
   ]
  },
  {
   "cell_type": "code",
   "execution_count": null,
   "id": "05dd249f",
   "metadata": {
    "ExecuteTime": {
     "end_time": "2024-01-20T14:39:11.329426Z",
     "start_time": "2024-01-20T14:39:11.315450Z"
    }
   },
   "outputs": [],
   "source": [
    "m = smf.ols(\n",
    "    'engagement ~ ___', data=did_data\n",
    ").fit(cov_type='cluster', cov_kwds={'groups': did_data['city']})\n",
    "\n",
    "print(\"ATT:\", m.params[\"treated:post\"])\n",
    "m.conf_int().loc[\"treated:post\"]"
   ]
  },
  {
   "cell_type": "markdown",
   "id": "7405c60f",
   "metadata": {},
   "source": [
    "# 질문 3\n",
    "\n",
    "- did_data에 대한 신뢰 구간이 기존 데이터(mkt_data)와 차이가 나는 이유를 자유롭게 설명해주세요"
   ]
  },
  {
   "cell_type": "markdown",
   "id": "112bc864",
   "metadata": {},
   "source": [
    "## 8.4 시간에 따른 효과 변동\n"
   ]
  },
  {
   "cell_type": "code",
   "execution_count": null,
   "id": "3671f124",
   "metadata": {
    "ExecuteTime": {
     "end_time": "2024-01-20T14:39:14.887265Z",
     "start_time": "2024-01-20T14:39:14.884119Z"
    }
   },
   "outputs": [],
   "source": [
    "def did_date(df, date):\n",
    "    df_date = (df\n",
    "               .query(\"date==@date | post==0\")\n",
    "               .query(\"date <= @date\")\n",
    "               .assign(post = lambda d: (d[\"date\"]==date).astype(int)))\n",
    "    \n",
    "    m = smf.ols(\n",
    "        'engagement ~ ___', data=df_date\n",
    "    ).fit(cov_type='cluster', cov_kwds={'groups': df_date['city']})\n",
    "    \n",
    "    att = ___\n",
    "    ci = ___\n",
    "    \n",
    "    return pd.DataFrame({\"att\": att, \"ci_low\": ci[0], \"ci_up\": ci[1]},\n",
    "                        index=[date])"
   ]
  },
  {
   "cell_type": "code",
   "execution_count": null,
   "id": "294464f7",
   "metadata": {
    "ExecuteTime": {
     "end_time": "2024-01-20T14:39:15.544541Z",
     "start_time": "2024-01-20T14:39:14.888459Z"
    }
   },
   "outputs": [],
   "source": [
    "post_dates = sorted(mkt_data[\"date\"].unique())[1:]\n",
    "\n",
    "atts = pd.concat([did_date(mkt_data, date)\n",
    "                  for date in post_dates])\n",
    "\n",
    "atts.head()"
   ]
  },
  {
   "cell_type": "code",
   "execution_count": null,
   "id": "7e79a77d",
   "metadata": {
    "ExecuteTime": {
     "end_time": "2024-01-20T14:39:15.777294Z",
     "start_time": "2024-01-20T14:39:15.546486Z"
    },
    "tags": [
     "hide-input"
    ]
   },
   "outputs": [],
   "source": [
    "\n",
    "plt.figure(figsize=(10,4))\n",
    "plt.plot(atts.index, atts[\"att\"], label=\"Est. ATTs\")\n",
    "\n",
    "plt.fill_between(atts.index, atts[\"ci_low\"], atts[\"ci_up\"], alpha=0.1)\n",
    "\n",
    "plt.vlines(pd.to_datetime(\"2021-05-15\"), -2, 3, linestyle=\"dashed\", label=\"intervention\")\n",
    "plt.hlines(0, atts.index.min(), atts.index.max(), linestyle=\"dotted\")\n",
    "\n",
    "plt.plot(atts.index, mkt_data.query(\"treated==1\").groupby(\"date\")[[\"tau\"]].mean().values[1:], color=\"0.6\", ls=\"-.\", label=\"$\\\\tau$\")\n",
    "\n",
    "plt.xticks(rotation=45)\n",
    "plt.title(\"DID ATTs Over Time\")\n",
    "plt.legend()\n"
   ]
  },
  {
   "cell_type": "markdown",
   "id": "19419472",
   "metadata": {},
   "source": [
    "## 8.5 이중차분법과 공변량\n"
   ]
  },
  {
   "cell_type": "code",
   "execution_count": null,
   "id": "772ea9be",
   "metadata": {
    "ExecuteTime": {
     "end_time": "2024-01-20T14:39:15.793664Z",
     "start_time": "2024-01-20T14:39:15.783819Z"
    }
   },
   "outputs": [],
   "source": [
    "mkt_data_all = (pd.read_csv(\"./data/Processed_New_Dataset_2.csv\")\n",
    "                .astype({\"date\":\"datetime64[ns]\"}))"
   ]
  },
  {
   "cell_type": "code",
   "execution_count": null,
   "id": "0094ac1b",
   "metadata": {
    "ExecuteTime": {
     "end_time": "2024-01-20T14:39:15.977299Z",
     "start_time": "2024-01-20T14:39:15.794801Z"
    },
    "tags": [
     "hide-input"
    ]
   },
   "outputs": [],
   "source": [
    "plt.figure(figsize=(15,6))\n",
    "sns.lineplot(data=mkt_data_all.groupby([\"date\", \"region\", \"treated\"])[[\"engagement\"]].mean().reset_index(),\n",
    "             x=\"date\", y=\"engagement\", hue=\"region\", style=\"treated\", palette=\"gray\")\n",
    "\n",
    "plt.vlines(pd.to_datetime(\"2021-05-15\"), 15, 55, ls=\"dotted\", label=\"Intervention\")\n",
    "plt.legend(fontsize=14)\n",
    "\n",
    "plt.xticks(rotation=25)"
   ]
  },
  {
   "cell_type": "code",
   "execution_count": null,
   "id": "60ec5572",
   "metadata": {
    "ExecuteTime": {
     "end_time": "2024-01-20T14:39:16.361794Z",
     "start_time": "2024-01-20T14:39:15.978681Z"
    }
   },
   "outputs": [],
   "source": [
    "print(\"True ATT: \", mkt_data_all.query(\"treated*post==1\")[\"tau\"].mean())\n",
    "\n",
    "m = smf.ols('engagement ~ treated:post + C(city) + C(date)',\n",
    "            data=mkt_data_all).fit()\n",
    "\n",
    "print(\"Estimated ATT:\", ___)"
   ]
  },
  {
   "cell_type": "code",
   "execution_count": null,
   "id": "e36e4949",
   "metadata": {
    "ExecuteTime": {
     "end_time": "2024-01-20T14:39:16.809745Z",
     "start_time": "2024-01-20T14:39:16.363503Z"
    }
   },
   "outputs": [],
   "source": [
    "# 지역 공변량을 추가해서 확인해 보세요!\n",
    "m = smf.ols('engagement ~ treated:post + C(city) + C(date) + _____',\n",
    "            data=mkt_data_all).fit()\n",
    "m.params[\"treated:post\"] "
   ]
  },
  {
   "cell_type": "code",
   "execution_count": null,
   "id": "2cd0d7e7",
   "metadata": {
    "ExecuteTime": {
     "end_time": "2024-01-20T14:39:16.855055Z",
     "start_time": "2024-01-20T14:39:16.811240Z"
    }
   },
   "outputs": [],
   "source": [
    "# 지역 더미 변수를 활용해서 채워주세요!\n",
    "m_saturated = smf.ols('engagement ~ ___',\n",
    "                      data=mkt_data_all).fit()\n",
    "\n",
    "atts = m_saturated.params[m_saturated.params.index.str.contains(\"post:treated\")]\n",
    "atts"
   ]
  },
  {
   "cell_type": "code",
   "execution_count": null,
   "id": "0696dc65",
   "metadata": {
    "ExecuteTime": {
     "end_time": "2024-01-20T14:39:16.862407Z",
     "start_time": "2024-01-20T14:39:16.857052Z"
    }
   },
   "outputs": [],
   "source": [
    "reg_size = (mkt_data_all.groupby(\"region\").size()\n",
    "            /len(mkt_data_all[\"date\"].unique()))\n",
    "\n",
    "base = atts[0]\n",
    "\n",
    "np.array([reg_size[0]*base]+\n",
    "         [(att+base)*size\n",
    "          for att, size in zip(atts[1:], reg_size[1:])]\n",
    "        ).sum()/sum(reg_size)"
   ]
  },
  {
   "cell_type": "markdown",
   "id": "c4ff3d07",
   "metadata": {},
   "source": [
    "# 질문 3\n",
    "- 현 상황에서 위와 같은 방법을 수행하는 것이 아래의 방법보다 실용적일까요?"
   ]
  },
  {
   "cell_type": "code",
   "execution_count": null,
   "id": "babd253f",
   "metadata": {
    "ExecuteTime": {
     "end_time": "2024-01-20T14:39:16.901908Z",
     "start_time": "2024-01-20T14:39:16.864155Z"
    }
   },
   "outputs": [],
   "source": [
    "m = smf.ols('engagement ~ post*(treated + C(region))',\n",
    "            data=mkt_data_all).fit()\n",
    "\n",
    "m.summary().tables[1]"
   ]
  },
  {
   "cell_type": "markdown",
   "id": "24548f97",
   "metadata": {},
   "source": [
    "## 8.7 처치의 시차 도입"
   ]
  },
  {
   "cell_type": "markdown",
   "id": "c8b3f4f0",
   "metadata": {},
   "source": [
    "# 질문 4\n",
    "- 시차 도입시 고려해야할 사항에 대해서 자유롭게 써주세요!"
   ]
  },
  {
   "cell_type": "code",
   "execution_count": null,
   "id": "8cf441b3",
   "metadata": {
    "ExecuteTime": {
     "end_time": "2024-01-20T14:39:17.038353Z",
     "start_time": "2024-01-20T14:39:17.015632Z"
    }
   },
   "outputs": [],
   "source": [
    "mkt_data_cohorts = (pd.read_csv(\"./data/Processed_New_Dataset_3.csv\")\n",
    "                    .astype({\n",
    "                        \"date\":\"datetime64[ns]\",\n",
    "                        \"cohort\":\"datetime64[ns]\"}))\n",
    "\n",
    "mkt_data_cohorts.head()"
   ]
  },
  {
   "cell_type": "code",
   "execution_count": null,
   "id": "07878605",
   "metadata": {
    "ExecuteTime": {
     "end_time": "2024-01-20T14:39:17.641301Z",
     "start_time": "2024-01-20T14:39:17.040228Z"
    },
    "tags": [
     "hide-input"
    ]
   },
   "outputs": [],
   "source": [
    "plt_data = (mkt_data_cohorts\n",
    "            .astype({\"date\": \"str\"})\n",
    "            .assign(treated_post=lambda d: d[\"treated\"] * (d[\"date\"] >= d[\"cohort\"]))\n",
    "            .pivot(index=\"city\", columns=\"date\", values=\"treated_post\")\n",
    "            .reset_index()\n",
    "            .sort_values(by=list(sorted(mkt_data_cohorts.query(\"cohort!='2100-01-01'\")[\"cohort\"].astype(\"str\").unique())), ascending=False)\n",
    "            .reset_index(drop=True)\n",
    "            .rename_axis(None, axis=1)\n",
    "            .set_index(\"city\"))\n",
    "\n",
    "\n",
    "\n",
    "plt.figure(figsize=(16,8))\n",
    "\n",
    "sns.heatmap(plt_data, cmap=\"gray\",cbar=False)\n",
    "plt.text(18, 18, \"Cohort$=G_{05/15}$\", size=14)\n",
    "plt.text(38, 65, \"Cohort$=G_{06/04}$\", size=14)\n",
    "plt.text(55, 110, \"Cohort$=G_{06/20}$\", size=14)\n",
    "plt.text(35, 170, \"Cohort$=G_{\\\\infty}$\", color=\"white\", size=14, weight=3);"
   ]
  },
  {
   "cell_type": "code",
   "execution_count": null,
   "id": "0bf1dbe1",
   "metadata": {
    "ExecuteTime": {
     "end_time": "2024-01-20T14:39:17.650522Z",
     "start_time": "2024-01-20T14:39:17.642515Z"
    }
   },
   "outputs": [],
   "source": [
    "mkt_data_cohorts_w = mkt_data_cohorts.query(\"region=='W'\")\n",
    "mkt_data_cohorts_w.head()"
   ]
  },
  {
   "cell_type": "code",
   "execution_count": null,
   "id": "45449b0d",
   "metadata": {
    "ExecuteTime": {
     "end_time": "2024-01-20T14:39:17.951595Z",
     "start_time": "2024-01-20T14:39:17.651779Z"
    },
    "tags": [
     "hide-input"
    ]
   },
   "outputs": [],
   "source": [
    "fig, (ax1, ax2) = plt.subplots(2, 1, figsize=(15, 10))\n",
    "\n",
    "plt_data = (mkt_data_cohorts_w\n",
    "            .groupby([\"date\", \"cohort\"])\n",
    "            [[\"engagement\"]]\n",
    "            .mean()\n",
    "            .reset_index()\n",
    ")\n",
    "\n",
    "\n",
    "\n",
    "for color, cohort in zip([\"C0\", \"C1\", \"C2\", \"C3\"], mkt_data_cohorts_w.query(\"cohort!='2100-01-01'\")[\"cohort\"].unique()):\n",
    "    df_cohort = plt_data.query(\"cohort==@cohort\")\n",
    "    sns.lineplot(data=df_cohort, x=\"date\", y=\"engagement\",\n",
    "                 label=pd.to_datetime(cohort).strftime('%Y-%m-%d'), ax=ax1)\n",
    "    ax1.vlines(x=cohort, ymin=25, ymax=50, color=color, ls=\"dotted\", lw=3)\n",
    "    \n",
    "    \n",
    "sns.lineplot(data=plt_data.query(\"cohort=='2100-01-01'\"), x=\"date\", y=\"engagement\", label=\"$\\infty$\", lw=4, ls=\"-.\", ax=ax1)\n",
    "        \n",
    "ax1.legend()\n",
    "ax1.set_title(\"Multiple Cohorts - West Region\");\n",
    "\n",
    "\n",
    "plt_data = (mkt_data_cohorts_w\n",
    "            .assign(days_to_treatment = lambda d: (pd.to_datetime(d[\"date\"])-pd.to_datetime(d[\"cohort\"])).dt.days)\n",
    "            .groupby([\"date\", \"cohort\"])\n",
    "            [[\"engagement\", \"days_to_treatment\"]]\n",
    "            .mean()\n",
    "            .reset_index()\n",
    ")\n",
    "\n",
    "\n",
    "for color, cohort in zip([\"C0\", \"C1\", \"C2\", \"C3\"], mkt_data_cohorts_w.query(\"cohort!='2100-01-01'\")[\"cohort\"].unique()):\n",
    "    df_cohort = plt_data.query(\"cohort==@cohort\")\n",
    "    sns.lineplot(data=df_cohort, x=\"days_to_treatment\", y=\"engagement\",\n",
    "                 label=pd.to_datetime(cohort).strftime('%Y-%m-%d'), ax=ax2)\n",
    "\n",
    "ax2.vlines(x=0, ymin=25, ymax=50, color=\"black\", ls=\"dotted\", lw=3)\n",
    "\n",
    "ax2.set_title(\"Multiple Cohorts (Aligned) - West Region\")\n",
    "ax2.legend();\n",
    "\n",
    "plt.tight_layout()"
   ]
  },
  {
   "cell_type": "code",
   "execution_count": null,
   "id": "2a4daaa8",
   "metadata": {
    "ExecuteTime": {
     "end_time": "2024-01-20T14:39:18.161933Z",
     "start_time": "2024-01-20T14:39:17.953112Z"
    }
   },
   "outputs": [],
   "source": [
    "twfe_model = smf.ols(\n",
    "    \"engagement ~ treated:post + C(date) + C(city)\",\n",
    "    data=mkt_data_cohorts_w\n",
    ").fit()\n",
    "\n",
    "true_tau = mkt_data_cohorts_w.query(\"post==1&treated==1\")[\"tau\"].mean()\n",
    "\n",
    "print(\"True Effect: \", true_tau)\n",
    "print(\"Estimated ATT:\", twfe_model.params[\"treated:post\"])"
   ]
  },
  {
   "cell_type": "code",
   "execution_count": null,
   "id": "39a017b4",
   "metadata": {
    "ExecuteTime": {
     "end_time": "2024-01-20T14:39:18.623416Z",
     "start_time": "2024-01-20T14:39:18.163727Z"
    },
    "tags": [
     "hide-input"
    ]
   },
   "outputs": [],
   "source": [
    "fig, (ax1, ax2) = plt.subplots(2, 1, figsize=(15, 10), sharex=True)\n",
    "\n",
    "# fig, (ax1, ax2) = plt.subplots(2, 1, figsize=(10, 10))\n",
    "\n",
    "cohort_erly='2021-06-04'\n",
    "cohort_late='2021-06-20'\n",
    "\n",
    "## Early vs Late\n",
    "did_df = (mkt_data_cohorts_w\n",
    "            .loc[lambda d: d[\"date\"].astype(str) < cohort_late]\n",
    "            .query(f\"cohort=='{cohort_late}' | cohort=='{cohort_erly}'\")\n",
    "            .assign(treated = lambda d: (d[\"cohort\"] == cohort_erly)*1,\n",
    "                    post = lambda d: (d[\"date\"].astype(str) >= cohort_erly)*1))\n",
    "\n",
    "m = smf.ols(\n",
    "    \"engagement ~ treated:post + C(date) + C(city)\",\n",
    "    data=did_df\n",
    ").fit()\n",
    "\n",
    "\n",
    "# print(\"Estimated\", m.params[\"treated:post\"])\n",
    "# print(\"True\", did_df.query(\"post==1 & treated==1\")[\"tau\"].mean())\n",
    "\n",
    "plt_data = (did_df\n",
    "            .assign(installs_hat_0 = lambda d: m.predict(d.assign(treated=0)))\n",
    "            .groupby([\"date\", \"cohort\"])\n",
    "            [[\"engagement\", \"post\", \"treated\", \"installs_hat_0\"]]\n",
    "            .mean()\n",
    "            .reset_index())\n",
    "\n",
    "\n",
    "sns.lineplot(data=plt_data, x=\"date\", y=\"engagement\", hue=\"cohort\", ax=ax1)\n",
    "sns.lineplot(data=plt_data.query(\"treated==1 & post==1\"),\n",
    "             x=\"date\", y=\"installs_hat_0\", ax=ax1, ls=\"-.\", alpha=0.5, label=\"$\\hat{Y}_0|T=1$\")\n",
    "\n",
    "\n",
    "ax1.vlines(pd.to_datetime(cohort_erly), 26, 38, ls=\"dashed\")\n",
    "ax1.legend()\n",
    "ax1.set_title(\"Early vs Late\")\n",
    "\n",
    "\n",
    "# ## Late vs Early\n",
    "\n",
    "did_df = (mkt_data_cohorts_w\n",
    "            .loc[lambda d: d[\"date\"].astype(str) > cohort_erly]\n",
    "            .query(f\"cohort=='{cohort_late}' | cohort=='{cohort_erly}'\")\n",
    "            .assign(treated = lambda d: (d[\"cohort\"] == cohort_late)*1,\n",
    "                    post = lambda d: (d[\"date\"].astype(str) >= cohort_late)*1))\n",
    "\n",
    "m = smf.ols(\n",
    "    \"engagement ~ treated*post + C(date) + C(city)\",\n",
    "    data=did_df\n",
    ").fit()\n",
    "\n",
    "# print(\"Estimated\", m.params[\"treated:post\"])\n",
    "# print(\"True\", did_df.query(\"post==1 & treated==1\")[\"tau\"].mean())\n",
    "\n",
    "\n",
    "plt_data = (did_df\n",
    "            .assign(installs_hat_0 = lambda d: m.predict(d.assign(treated=0)))\n",
    "            .groupby([\"date\", \"cohort\"])\n",
    "            [[\"engagement\", \"post\", \"treated\", \"installs_hat_0\"]]\n",
    "            .mean()\n",
    "            .reset_index())\n",
    "\n",
    "\n",
    "sns.lineplot(data=plt_data, x=\"date\", y=\"engagement\", hue=\"cohort\", ax=ax2)\n",
    "sns.lineplot(data=plt_data.query(\"treated==1 & post==1\"),\n",
    "             x=\"date\", y=\"installs_hat_0\", ax=ax2, ls=\"-.\", alpha=0.5, label=\"$\\hat{Y}_0|T=1$\")\n",
    "\n",
    "ax2.vlines(pd.to_datetime(\"2021-06-20\"), 32, 45, ls=\"dashed\")\n",
    "ax2.legend()\n",
    "ax2.set_title(\"Late vs Early\")"
   ]
  },
  {
   "cell_type": "markdown",
   "id": "0221c59e",
   "metadata": {},
   "source": [
    "### 8.7.1 시간에 따른 이질적 효과\n"
   ]
  },
  {
   "cell_type": "code",
   "execution_count": null,
   "id": "63a48d15",
   "metadata": {
    "ExecuteTime": {
     "end_time": "2024-01-20T14:39:19.558367Z",
     "start_time": "2024-01-20T14:39:18.624891Z"
    }
   },
   "outputs": [],
   "source": [
    "formula = \"engagement ~ ____\"\n",
    "\n",
    "twfe_model = smf.ols(formula, data=mkt_data_cohorts_w).fit()"
   ]
  },
  {
   "cell_type": "code",
   "execution_count": null,
   "id": "7a037a3e",
   "metadata": {
    "ExecuteTime": {
     "end_time": "2024-01-20T14:39:19.603935Z",
     "start_time": "2024-01-20T14:39:19.559718Z"
    }
   },
   "outputs": [],
   "source": [
    "df_pred = (\n",
    "    mkt_data_cohorts_w\n",
    "    .query(\"post==1 & treated==1\")\n",
    "    .assign(y_hat_0=lambda d: twfe_model.predict(d.assign(treated=0)))\n",
    "    .assign(effect_hat=lambda d: d[\"engagement\"] - d[\"y_hat_0\"])\n",
    ")\n",
    "\n",
    "print(\"Number of param.:\", len(twfe_model.params))\n",
    "print(\"True Effect: \", df_pred[\"tau\"].mean())\n",
    "print(\"Pred. Effect: \", df_pred[\"effect_hat\"].mean())"
   ]
  },
  {
   "cell_type": "code",
   "execution_count": null,
   "id": "08d5e8fd",
   "metadata": {
    "ExecuteTime": {
     "end_time": "2024-01-20T14:39:20.575551Z",
     "start_time": "2024-01-20T14:39:19.605555Z"
    },
    "tags": [
     "hide-input"
    ]
   },
   "outputs": [],
   "source": [
    "formula = \"engagement ~ ____\"\n",
    "\n",
    "twfe_model = smf.ols(formula, data=mkt_data_cohorts_w.astype({\"date\":str, \"cohort\": str})).fit()\n",
    "\n",
    "effects = (twfe_model.params[twfe_model.params.index.str.contains(\"treated\")]\n",
    "           .reset_index()\n",
    "           .rename(columns={0:\"param\"})\n",
    "           .assign(cohort=lambda d: d[\"index\"].str.extract(r'C\\(cohort\\)\\[(.*)\\]:'))\n",
    "           .assign(date=lambda d: d[\"index\"].str.extract(r':C\\(date\\)\\[(.*)\\]'))\n",
    "           .assign(date=lambda d: pd.to_datetime(d[\"date\"]), cohort=lambda d: pd.to_datetime(d[\"cohort\"])))\n",
    "\n",
    "plt.figure(figsize=(10,4))\n",
    "sns.lineplot(data=effects, x=\"date\", y=\"param\", hue=\"cohort\", palette=\"gray\")\n",
    "plt.xticks(rotation=45)\n",
    "plt.ylabel(\"Estimated Effect\")\n",
    "plt.legend(fontsize=12)\n"
   ]
  },
  {
   "cell_type": "markdown",
   "id": "f847c04e",
   "metadata": {},
   "source": [
    "# 질문 5\n",
    "- 아래 코드는 어떤 실험 대상을 주체로 진행되는 과정인가요?"
   ]
  },
  {
   "cell_type": "code",
   "execution_count": null,
   "id": "f7cb29c6",
   "metadata": {
    "ExecuteTime": {
     "end_time": "2024-01-20T14:39:20.612808Z",
     "start_time": "2024-01-20T14:39:20.576937Z"
    }
   },
   "outputs": [],
   "source": [
    "cohorts = sorted(mkt_data_cohorts_w[\"cohort\"].unique())\n",
    "\n",
    "treated_G = cohorts[:-1]\n",
    "nvr_treated = cohorts[-1]\n",
    "\n",
    "def did_g_vs_nvr_treated(df: pd.DataFrame,\n",
    "                         cohort: str,\n",
    "                         nvr_treated: str,\n",
    "                         cohort_col: str = \"cohort\",\n",
    "                         date_col: str = \"date\",\n",
    "                         y_col: str = \"engagement\"):\n",
    "    did_g = (\n",
    "        df\n",
    "        .loc[lambda d:(d[cohort_col] == cohort)|\n",
    "                      (d[cohort_col] == nvr_treated)]\n",
    "        .assign(treated = lambda d: (d[cohort_col] == cohort)*1)\n",
    "        .assign(post = lambda d:(pd.to_datetime(d[date_col])>=cohort)*1)\n",
    "    )\n",
    "    \n",
    "    att_g = smf.ols(f\"{y_col} ~ treated*post\",\n",
    "                    data=did_g).fit().params[\"treated:post\"]\n",
    "    size = len(did_g.query(\"treated==1 & post==1\"))\n",
    "    return {\"att_g\": att_g, \"size\": size}\n",
    "\n",
    "\n",
    "atts = pd.DataFrame(\n",
    "    [did_g_vs_nvr_treated(mkt_data_cohorts_w, cohort, nvr_treated)\n",
    "     for cohort in treated_G]\n",
    ")\n",
    "    \n",
    "atts"
   ]
  },
  {
   "cell_type": "code",
   "execution_count": null,
   "id": "6be01a88",
   "metadata": {
    "ExecuteTime": {
     "end_time": "2024-01-20T14:39:20.618637Z",
     "start_time": "2024-01-20T14:39:20.614787Z"
    }
   },
   "outputs": [],
   "source": [
    "(atts[\"att_g\"]*atts[\"size\"]).sum()/atts[\"size\"].sum()"
   ]
  },
  {
   "cell_type": "markdown",
   "id": "c39f917a",
   "metadata": {},
   "source": [
    "### 8.7.2 공변량\n"
   ]
  },
  {
   "cell_type": "code",
   "execution_count": null,
   "id": "a0db0197",
   "metadata": {
    "ExecuteTime": {
     "end_time": "2024-01-20T14:39:26.293019Z",
     "start_time": "2024-01-20T14:39:20.620396Z"
    }
   },
   "outputs": [],
   "source": [
    "formula = \"\"\"\n",
    "engagement ~ ___\"\"\"\n",
    "\n",
    "twfe_model = smf.ols(formula, data=mkt_data_cohorts).fit()"
   ]
  },
  {
   "cell_type": "code",
   "execution_count": null,
   "id": "91ba286e",
   "metadata": {
    "ExecuteTime": {
     "end_time": "2024-01-20T14:39:26.472928Z",
     "start_time": "2024-01-20T14:39:26.294479Z"
    }
   },
   "outputs": [],
   "source": [
    "df_pred = (\n",
    "    mkt_data_cohorts\n",
    "    .query(\"post==1 & treated==1\")\n",
    "    .assign(y_hat_0=lambda d: twfe_model.predict(d.assign(treated=0)))\n",
    "    .assign(effect_hat=lambda d: d[\"engagement\"] - d[\"y_hat_0\"])\n",
    ")\n",
    "\n",
    "print(\"Number of param.:\", len(twfe_model.params))\n",
    "print(\"True Effect: \",  df_pred[\"tau\"].mean())\n",
    "print(\"Pred. Effect: \", df_pred[\"effect_hat\"].mean())"
   ]
  }
 ],
 "metadata": {
  "celltoolbar": "Tags",
  "kernelspec": {
   "display_name": "dacon1",
   "language": "python",
   "name": "python3"
  },
  "language_info": {
   "codemirror_mode": {
    "name": "ipython",
    "version": 3
   },
   "file_extension": ".py",
   "mimetype": "text/x-python",
   "name": "python",
   "nbconvert_exporter": "python",
   "pygments_lexer": "ipython3",
   "version": "3.8.16"
  },
  "toc": {
   "base_numbering": 1,
   "nav_menu": {},
   "number_sections": true,
   "sideBar": true,
   "skip_h1_title": false,
   "title_cell": "Table of Contents",
   "title_sidebar": "Contents",
   "toc_cell": false,
   "toc_position": {},
   "toc_section_display": true,
   "toc_window_display": false
  },
  "varInspector": {
   "cols": {
    "lenName": 16,
    "lenType": 16,
    "lenVar": 40
   },
   "kernels_config": {
    "python": {
     "delete_cmd_postfix": "",
     "delete_cmd_prefix": "del ",
     "library": "var_list.py",
     "varRefreshCmd": "print(var_dic_list())"
    },
    "r": {
     "delete_cmd_postfix": ") ",
     "delete_cmd_prefix": "rm(",
     "library": "var_list.r",
     "varRefreshCmd": "cat(var_dic_list()) "
    }
   },
   "types_to_exclude": [
    "module",
    "function",
    "builtin_function_or_method",
    "instance",
    "_Feature"
   ],
   "window_display": false
  }
 },
 "nbformat": 4,
 "nbformat_minor": 5
}
